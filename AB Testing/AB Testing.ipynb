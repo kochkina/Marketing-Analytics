{
 "cells": [
  {
   "cell_type": "markdown",
   "metadata": {
    "dc": {
     "key": "3"
    },
    "deletable": false,
    "editable": false,
    "run_control": {
     "frozen": true
    },
    "tags": [
     "context"
    ]
   },
   "source": [
    "### Загрузка библиотек"
   ]
  },
  {
   "cell_type": "code",
   "execution_count": 1,
   "metadata": {},
   "outputs": [],
   "source": [
    "import pandas as pd\n",
    "import numpy as np\n",
    "\n",
    "# This command makes plots appear in the notebook\n",
    "%matplotlib inline\n",
    "import matplotlib.pyplot as plt\n",
    "import seaborn as sns\n",
    "sns.set()"
   ]
  },
  {
   "cell_type": "markdown",
   "metadata": {},
   "source": [
    "# A/B-тестирования и бутстрэп анализ при оценки коэффициента удержания"
   ]
  },
  {
   "cell_type": "markdown",
   "metadata": {},
   "source": [
    "## 1. Описание сути A/B-тестирования\n",
    "Cookie Cats</a> является популярной игрой от разработчика <a href=\"http://tactile.dk\">Tactile Entertainment</a>. Данная игра представляет собой классический трех уровневый пазл, в котором игрок должен соединить элементы одинокового цвета для того чтобы очистить экран и выиграть.\n",
    "<p> В течение игры при переходе на очередной уровень, пользователи периодически видят заглушку и вынужденны ожидать некоторое время для перехода на следующий уровень, либо внести определенную сумму и продолжить игру без ожидания. По мимо монетизации, заглушки между уровнями вынуждают игрока сделать перерыв, что в конечном счете позволяет сохранить интерес пользователя к игре.</p>\n",
    "\n",
    "<p>A/B-тестирование (англ. A/B testing, Split testing) — метод маркетингового исследования, суть которого заключается в том, что контрольная группа элементов сравнивается с набором тестовых групп, в которых один или несколько показателей были изменены, для того, чтобы выяснить, какие из изменений улучшают целевой показатель. В данном кейсе особое внимание Особое внимание будет уделено такому важному показателю как показатель Удержания клиента (player retention rate).\n",
    "    \n",
    "<p>Ключевым вопросом при данном подходе, является вопрос на каком уровне установить заглушки? Изначально заглушка была установлена на 30 уровне игры. В данном кейсе произведен A/B-тестирование   пользовательской активности в случае, когда заглушка будет перенесена на 40 уровень игры. </p>\n",
    "\n",
    "__Ключевой вопрос  данного анализа__ : влияет ли перенос заглушки в игре на 40 уровень  на удержание клиента (player retention rate)"
   ]
  },
  {
   "cell_type": "code",
   "execution_count": 2,
   "metadata": {
    "dc": {
     "key": "3"
    },
    "tags": [
     "sample_code"
    ]
   },
   "outputs": [
    {
     "data": {
      "text/html": [
       "<div>\n",
       "<style scoped>\n",
       "    .dataframe tbody tr th:only-of-type {\n",
       "        vertical-align: middle;\n",
       "    }\n",
       "\n",
       "    .dataframe tbody tr th {\n",
       "        vertical-align: top;\n",
       "    }\n",
       "\n",
       "    .dataframe thead th {\n",
       "        text-align: right;\n",
       "    }\n",
       "</style>\n",
       "<table border=\"1\" class=\"dataframe\">\n",
       "  <thead>\n",
       "    <tr style=\"text-align: right;\">\n",
       "      <th></th>\n",
       "      <th>userid</th>\n",
       "      <th>version</th>\n",
       "      <th>sum_gamerounds</th>\n",
       "      <th>retention_1</th>\n",
       "      <th>retention_7</th>\n",
       "    </tr>\n",
       "  </thead>\n",
       "  <tbody>\n",
       "    <tr>\n",
       "      <th>0</th>\n",
       "      <td>116</td>\n",
       "      <td>gate_30</td>\n",
       "      <td>3</td>\n",
       "      <td>False</td>\n",
       "      <td>False</td>\n",
       "    </tr>\n",
       "    <tr>\n",
       "      <th>1</th>\n",
       "      <td>337</td>\n",
       "      <td>gate_30</td>\n",
       "      <td>38</td>\n",
       "      <td>True</td>\n",
       "      <td>False</td>\n",
       "    </tr>\n",
       "    <tr>\n",
       "      <th>2</th>\n",
       "      <td>377</td>\n",
       "      <td>gate_40</td>\n",
       "      <td>165</td>\n",
       "      <td>True</td>\n",
       "      <td>False</td>\n",
       "    </tr>\n",
       "    <tr>\n",
       "      <th>3</th>\n",
       "      <td>483</td>\n",
       "      <td>gate_40</td>\n",
       "      <td>1</td>\n",
       "      <td>False</td>\n",
       "      <td>False</td>\n",
       "    </tr>\n",
       "    <tr>\n",
       "      <th>4</th>\n",
       "      <td>488</td>\n",
       "      <td>gate_40</td>\n",
       "      <td>179</td>\n",
       "      <td>True</td>\n",
       "      <td>True</td>\n",
       "    </tr>\n",
       "  </tbody>\n",
       "</table>\n",
       "</div>"
      ],
      "text/plain": [
       "   userid  version  sum_gamerounds  retention_1  retention_7\n",
       "0     116  gate_30               3        False        False\n",
       "1     337  gate_30              38         True        False\n",
       "2     377  gate_40             165         True        False\n",
       "3     483  gate_40               1        False        False\n",
       "4     488  gate_40             179         True         True"
      ]
     },
     "execution_count": 2,
     "metadata": {},
     "output_type": "execute_result"
    }
   ],
   "source": [
    "# чтение файла с данными\n",
    "df = pd.read_csv('data/cookie_cats.csv')\n",
    "\n",
    "# показать первые несколько строк данных\n",
    "df.head()"
   ]
  },
  {
   "cell_type": "markdown",
   "metadata": {
    "dc": {
     "key": "10"
    },
    "deletable": false,
    "editable": false,
    "run_control": {
     "frozen": true
    },
    "tags": [
     "context"
    ]
   },
   "source": [
    "## 2. Данные для A/B-тестирования\n",
    "<p>Данные содержат информацию о 90,189 игроках, которые установили приложение в момент проведения AB-test. Переменные содержат следующую информацию:</p>\n",
    "<ul>\n",
    "<li><code>userid</code> - уникальный номер, который является идентификатором игрока.</li>\n",
    "<li><code>version</code> - идентификатор включен или нет данный игрок в контрольную группу (<code>gate_30</code> - заглушка на 30 уровне) или в группу игроков, для которых заглушка быда перенесена на 40 уровень (<code>gate_40</code> - заглушка на 30 уровне).</li>\n",
    "<li><code>sum_gamerounds</code> - количество раундов, которые были сыграны игроком в лечение первых 14 дней после установки приложения </li>\n",
    "<li><code>retention_1</code> - вернулся ли игрок обратно  <strong>в течение 1 дня</strong> после установки приложения?</li>\n",
    "<li><code>retention_7</code> - вернулся ли игрок обратно и играл <strong>в течение 7 дней</strong> после установки приложения?</li>\n",
    "</ul>\n",
    "<p>В момент установки игры, каждый игрок случайным образом был распределен либо в контрольную группу <code>gate_30</code> либо <code>gate_40</code>. В первую очередь необходимо убедиться является ли количесвто игроков примерно одинаковым в контрольной группе и шруппе, где были произведены изменения.</p>"
   ]
  },
  {
   "cell_type": "code",
   "execution_count": 3,
   "metadata": {
    "dc": {
     "key": "10"
    },
    "tags": [
     "sample_code"
    ]
   },
   "outputs": [
    {
     "data": {
      "text/plain": [
       "version\n",
       "gate_30    44700\n",
       "gate_40    45489\n",
       "Name: userid, dtype: int64"
      ]
     },
     "execution_count": 3,
     "metadata": {},
     "output_type": "execute_result"
    }
   ],
   "source": [
    "# Counting the number of players in each AB group.\n",
    "df.groupby(by = 'version').count()['userid']"
   ]
  },
  {
   "cell_type": "markdown",
   "metadata": {
    "dc": {
     "key": "17"
    },
    "deletable": false,
    "editable": false,
    "run_control": {
     "frozen": true
    },
    "tags": [
     "context"
    ]
   },
   "source": [
    "## 3. Кол-во раундов сыгранных пользователям в течение первых 14 дней после установки игры"
   ]
  },
  {
   "cell_type": "markdown",
   "metadata": {},
   "source": [
    "### Распределение уровней пройденных пользователями \n",
    "<p>Сначала проанализируем распределение количества раундов, которые пользователи сыграли в течение первой недели после установки приложения.</p>"
   ]
  },
  {
   "cell_type": "code",
   "execution_count": 4,
   "metadata": {
    "dc": {
     "key": "17"
    },
    "tags": [
     "sample_code"
    ]
   },
   "outputs": [
    {
     "data": {
      "image/png": "[encoded data removed]",
      "text/plain": [
       "<Figure size 432x288 with 1 Axes>"
      ]
     },
     "metadata": {
      "needs_background": "light"
     },
     "output_type": "display_data"
    }
   ],
   "source": [
    "# сколько игроков достигли определенного раунда \n",
    "plot_df = df.groupby(by = 'sum_gamerounds')['userid'].count()\n",
    "\n",
    "# распределение игроков которые сыграли от 0 до 100 раундов в течение первых 14 дней после установки\n",
    "ax = plot_df.head(100).plot( x = 'sum_gamerounds', y = 'userid')\n",
    "_= ax.set_xlabel(\"Количество раундов сыгранных пользователям в течение первых 14 дней после установки игры\")\n",
    "_= ax.set_ylabel(\"Количество пользователей\")"
   ]
  },
  {
   "cell_type": "markdown",
   "metadata": {},
   "source": [
    "__В соответсвии с графиком распределения:__ более 5000 игроков либо не вернулись к приложению после установки, либо сыграли меньше 5 раундов в течение первых 14 дней после установки"
   ]
  },
  {
   "cell_type": "markdown",
   "metadata": {},
   "source": [
    "### Функция распределения уровней пройденных пользователями"
   ]
  },
  {
   "cell_type": "code",
   "execution_count": 5,
   "metadata": {},
   "outputs": [],
   "source": [
    "def ecdf(data):\n",
    "    \"\"\"Cumulative distribution function \"\"\"\n",
    "    # Number of data points: n\n",
    "    n = len(data)\n",
    "\n",
    "    # x-data for the ECDF: x\n",
    "    x = np.sort(data)\n",
    "\n",
    "    # y-data for the ECDF: y\n",
    "    y = np.arange(1, n + 1) / n\n",
    "\n",
    "    return x, y"
   ]
  },
  {
   "cell_type": "code",
   "execution_count": 6,
   "metadata": {},
   "outputs": [
    {
     "data": {
      "image/png": "[encoded data removed]",
      "text/plain": [
       "<Figure size 432x288 with 1 Axes>"
      ]
     },
     "metadata": {
      "needs_background": "light"
     },
     "output_type": "display_data"
    }
   ],
   "source": [
    "x, y = ecdf(df[df.sum_gamerounds<=100].sum_gamerounds.values)\n",
    "\n",
    "_=plt.plot(x, y, marker = '.', linestyle = 'none')\n",
    "_=plt.xlabel('Количество раундов сыгранных пользователям в течение первых 14 дней после установки игры')\n",
    "_=plt.ylabel('Вероятность')\n",
    "\n",
    "plt.show()"
   ]
  },
  {
   "cell_type": "markdown",
   "metadata": {},
   "source": [
    "__В соответствии в функцией распределения:__ с вероятностью 80% игрок сыграет меньше 40 раундов в первые 14 дней после установки"
   ]
  },
  {
   "cell_type": "markdown",
   "metadata": {
    "dc": {
     "key": "25"
    },
    "deletable": false,
    "editable": false,
    "run_control": {
     "frozen": true
    },
    "tags": [
     "context"
    ]
   },
   "source": [
    "## 4. Общий коэффициент удержания (retention rate) в течение 1 дня после установки\n",
    "<p> В соответсвии с графиками распределения, подавляющее количество игроков после установки игры либо никогда не открывают  приложение (0 раундов), либо играют всего лишь несколько раз. Лишь относительно небольшое количество пользователей играют 100 либо больше раундов. </p>\n",
    "<p>Основная цель разработчика игры как можно дольше удерживать внимание пользователя. Одна из самых распространненых метрик для оценки данного показателя является <em>коэффициент удержания в течение первого дня после установки приложения</em>: количество игроков в процентном выражении, которые возвращаются к приложению <em>в течение первого дня</em> после того как они установили приложение. Чем выше данный показатель, тем проще удерживать пользователей и наращивать клиентскую базу.</p>\n",
    "<p>Общий коэффициент удержания (retention rate) в течение 1 дня после установки.</p>"
   ]
  },
  {
   "cell_type": "code",
   "execution_count": 7,
   "metadata": {
    "dc": {
     "key": "25"
    },
    "tags": [
     "sample_code"
    ]
   },
   "outputs": [
    {
     "data": {
      "text/plain": [
       "0.4452095044850259"
      ]
     },
     "execution_count": 7,
     "metadata": {},
     "output_type": "execute_result"
    }
   ],
   "source": [
    "# Кол-во пользователей в процентном выражении, которые вернулись к приложению и продолжили им пользоваться в течение первого дня после установки\n",
    "df['retention_1'].sum() / df['retention_1'].count()"
   ]
  },
  {
   "cell_type": "markdown",
   "metadata": {
    "dc": {
     "key": "32"
    },
    "deletable": false,
    "editable": false,
    "run_control": {
     "frozen": true
    },
    "tags": [
     "context"
    ]
   },
   "source": [
    "## 5. Коэффициент удержания (retention rate) в течение 1 дня после установки в зависимости от того к какой группе относиться пользователь\n",
    "<p>Общий коэффициент удержания в течение первого дня чуть меньше чем 50%. Данный показатель может служить как benchmark. Далее проанализируем каким образом   коэффициент удержания (retention rate) в течение 1 дня после установкизависит от того к какой группе к контрольной или тестовой относиться пользователь</p>"
   ]
  },
  {
   "cell_type": "code",
   "execution_count": 8,
   "metadata": {
    "dc": {
     "key": "32"
    },
    "tags": [
     "sample_code"
    ]
   },
   "outputs": [
    {
     "data": {
      "text/plain": [
       "version\n",
       "gate_30    0.448188\n",
       "gate_40    0.442283\n",
       "Name: retention_1, dtype: float64"
      ]
     },
     "execution_count": 8,
     "metadata": {},
     "output_type": "execute_result"
    }
   ],
   "source": [
    "# коэффициент удержания (retention rate) в течение 1 дня после установки для тестовой и контрольной групп\n",
    "df.groupby('version')['retention_1'].sum() / df.groupby('version')['retention_1'].count()"
   ]
  },
  {
   "cell_type": "markdown",
   "metadata": {
    "dc": {
     "key": "39"
    },
    "deletable": false,
    "editable": false,
    "run_control": {
     "frozen": true
    },
    "tags": [
     "context"
    ]
   },
   "source": [
    "## 6. Насколько мы можем быть уверены в результате при оценке коэффициента удержания ?\n",
    "<p>Согласно расчетам коэффициент удержания в течение первого дня незначительно снизился, когда мы внесли изменения в приложение и перенесли заглушку на 40 уровень (44.2%) по сравнению с контрольной группой где заглушка осталась на 30 уровне игры (44.8%). На первый вгляд разница невелика, но даже небольшое изменение коэффициента удержания может иметь огромное влияние на все остальные показатели. Несмотря на то, что мы уверены в небольшой разнице в показателе между контрольной и тестовой группами, насколько мы можем быть уверены, что перенос заглушки на 40 уровень так же снизит коэффициент удержание в будущем? </p>\n",
    "<p>Существует несколько статистических приемов при помощи которых мы можем оценить наш результат и быть в нем уверены.В данном случае мы будем использовать бутстрэп, главная идея которого заключается в использовании повторной выборки с заменой из теущих данных и повторное вычисление интересующей нас метрики для новой выборки. Отклонение коэффициента удержания в течение 1 дня поможет оценить насколько изменчив интересующий нас показатель в данном случае коэффициент удержания.</p>"
   ]
  },
  {
   "cell_type": "code",
   "execution_count": 15,
   "metadata": {
    "dc": {
     "key": "39"
    },
    "tags": [
     "sample_code"
    ]
   },
   "outputs": [
    {
     "data": {
      "image/png": "[encoded data removed]",
      "text/plain": [
       "<Figure size 432x288 with 1 Axes>"
      ]
     },
     "metadata": {
      "needs_background": "light"
     },
     "output_type": "display_data"
    }
   ],
   "source": [
    "# сделать 500 выборок с заменой из текущих данных и расчитать коэффициент удержания для тестовой и контрольной групп.\n",
    "boot_1d = []\n",
    "for i in range(500):\n",
    "    boot_mean = df.sample(replace = True, frac = 1).groupby('version')['retention_1'].mean()\n",
    "    boot_1d.append(boot_mean)\n",
    "    \n",
    "boot_1d = pd.DataFrame(boot_1d)\n",
    "    \n",
    "# графики оценки плотности распределения для АВ групп\n",
    "_= boot_1d.plot(kind = 'density')"
   ]
  },
  {
   "cell_type": "markdown",
   "metadata": {
    "dc": {
     "key": "47"
    },
    "deletable": false,
    "editable": false,
    "run_control": {
     "frozen": true
    },
    "tags": [
     "context"
    ]
   },
   "source": [
    "## 7. Разница в коэффициенте удержания между тестовой и контрольной группами\n",
    "<p>Два верхних графика показывают отклонение коэффициента удержания в течение первого дня для контрольной и тестовой групп </p>\n",
    "<p>Для того, чтобы лучше оценить результат А/В-тестирования и как это повлияло на коэффициент удержания, расчитаем разницу между показателями полученными в результате повторных выборок для контрольной и тестовой групп и построим график </p>\n",
    "<p>(<em>Важный момент: в данном случае было сгенерированно 500 выборок для того чтобы произвести вычисления быстрее, на практике обычно используется около 10 000 выборок.</em>)</p>"
   ]
  },
  {
   "cell_type": "code",
   "execution_count": 16,
   "metadata": {
    "dc": {
     "key": "47"
    },
    "tags": [
     "sample_code"
    ]
   },
   "outputs": [
    {
     "data": {
      "image/png": "[encoded data removed]",
      "text/plain": [
       "<Figure size 432x288 with 1 Axes>"
      ]
     },
     "metadata": {
      "needs_background": "light"
     },
     "output_type": "display_data"
    }
   ],
   "source": [
    "#разница выраженная в процентах между показателями полученными в результате повторных выборок для контрольной и тестовой групп\n",
    "boot_1d['diff'] = (boot_1d.gate_30 - boot_1d.gate_40)/boot_1d.gate_40*100\n",
    "\n",
    "# график оценки разницы коэффициента удержания в контрольной и тестовой группах\n",
    "ax = boot_1d['diff'].plot(kind = 'density')\n",
    "_= ax.set_xlabel(\"% разница в коэффициенте удержания между контрольной и тестовой группами\")"
   ]
  },
  {
   "cell_type": "markdown",
   "metadata": {
    "dc": {
     "key": "54"
    },
    "deletable": false,
    "editable": false,
    "run_control": {
     "frozen": true
    },
    "tags": [
     "context"
    ]
   },
   "source": [
    "## 8. Вероятность разницы коэффициента удержания\n",
    "<p>Из графика, представленного выше, можно сделать вывод, что с наибольшой вероятностью разница в коэффициенте удержания в течение первого дня будет примерно 1% - 2%. Большинство значений функции распределения больше 0%, это говорит о том, что значение коэффициента удержания для контрольной группы больше чем для тестовой группы.  Какова <em>вероятность</em> что разница между коэффициентами удержания больше нуля?</p>"
   ]
  },
  {
   "cell_type": "code",
   "execution_count": 18,
   "metadata": {
    "dc": {
     "key": "54"
    },
    "tags": [
     "sample_code"
    ]
   },
   "outputs": [
    {
     "name": "stdout",
     "output_type": "stream",
     "text": [
      "96.2%\n"
     ]
    }
   ],
   "source": [
    "# вероятность что коэффициент удержания в течение 1 дня после установки больше для контрольной группы (заглушка на 30 уровне игры)\n",
    "prob = (boot_1d['diff'] > 0).sum() / len(boot_1d['diff'])\n",
    "\n",
    "print('{:.1%}'.format(prob))"
   ]
  },
  {
   "cell_type": "markdown",
   "metadata": {
    "dc": {
     "key": "61"
    },
    "deletable": false,
    "editable": false,
    "run_control": {
     "frozen": true
    },
    "tags": [
     "context"
    ]
   },
   "source": [
    "## 9. Коэффицент удержания в течение первых 7 дней после утановки для контрольной и тестовой групп\n",
    "<p>На основе проведенного бутстрэп анализа можно сделать вывод, что с высокой долей веротяности, коэффициент удержания в течение певого дня после установки выше для контрольной группы, где не было произведенно никаких изменений (блокировка на 30 уровне игры). Однако маловеротяно что пользователь достигнет 30 либо 40 уровня в течение первого после установки.  данное различие может быть объяснено что несколько наиболее активных пользователей смогли достичь 30 уровня в течение первого для после установки игры. </p>\n",
    "<p>Намного интересней проанализировать коэффициент удержания в течение первых семи дней после установки, когда игрок с высокой долей вероятности достигнет 40 игры. Каков процент пользователей, которые вновь откроют пиложение и продолжат играть по истечение первой недели после установки?</p>\n",
    "<p>Расчет коэффициента удержания в течение первых 7 дней после установки для контрольной и тестовой групп.</p>"
   ]
  },
  {
   "cell_type": "code",
   "execution_count": 12,
   "metadata": {
    "dc": {
     "key": "61"
    },
    "tags": [
     "sample_code"
    ]
   },
   "outputs": [
    {
     "data": {
      "text/plain": [
       "version\n",
       "gate_30    0.190201\n",
       "gate_40    0.182000\n",
       "Name: retention_7, dtype: float64"
      ]
     },
     "execution_count": 12,
     "metadata": {},
     "output_type": "execute_result"
    }
   ],
   "source": [
    "df.groupby('version')['retention_7'].sum() / df.groupby('version')['retention_7'].count()"
   ]
  },
  {
   "cell_type": "markdown",
   "metadata": {
    "dc": {
     "key": "68"
    },
    "deletable": false,
    "editable": false,
    "run_control": {
     "frozen": true
    },
    "tags": [
     "context"
    ]
   },
   "source": [
    "## 10. Бутстрэп анализ для коэффициента удержания в течение первых 7 дней после установки приложения\n",
    "<p>Так же, как и вслучае с коэффициентом удержания в течение первого дня видно, что коэффициент удержания в течение первых 7 дней после установки приложения немного меньше (18.2%) когда блокировка установлена на 40 уровне игры чем у контрольной группы пользователей для которых блокировка была оставлена без изменений на 30 уровне игры (19.0%). Так же из данных следует, что в целом коэффициент удержания в течение 7 дней после установки значительон меньше чем коэффициент удержания пользователей в течение 1 дня после установки приложения.</p>\n",
    "<p>Так же как и для коэффициента удержания в течение первого дня проведем бутстрэп анализ для коэффициента удержания в течение первых семи дней, на основе которого мы сможем быть уверены в разницы данного показатаеля между двумя группами пользователей.</p>"
   ]
  },
  {
   "cell_type": "code",
   "execution_count": 17,
   "metadata": {
    "dc": {
     "key": "68"
    },
    "tags": [
     "sample_code"
    ]
   },
   "outputs": [
    {
     "name": "stdout",
     "output_type": "stream",
     "text": [
      "96.2%\n"
     ]
    },
    {
     "data": {
      "image/png": "[encoded data removed]",
      "text/plain": [
       "<Figure size 432x288 with 1 Axes>"
      ]
     },
     "metadata": {
      "needs_background": "light"
     },
     "output_type": "display_data"
    }
   ],
   "source": [
    "# сделать 500 выборок с заменой из текущих данных и расчитать коэффициент удержания для тестовой и контрольной групп.\n",
    "boot_7d = []\n",
    "for i in range(500):\n",
    "    boot_mean = df.sample(replace = True, frac = 1).groupby('version')['retention_7'].mean()\n",
    "    boot_7d.append(boot_mean)\n",
    "    \n",
    "\n",
    "boot_7d = pd.DataFrame(boot_1d)\n",
    "\n",
    "#разница выраженная в процентах между показателями полученными в результате повторных выборок для контрольной и тестовой групп\n",
    "boot_7d['diff'] = (boot_7d.gate_30 - boot_7d.gate_40)/boot_7d.gate_40*100\n",
    "\n",
    "# график оценки разницы коэффициента удержания в контрольной и тестовой группах\n",
    "ax = boot_7d['diff'].plot(kind = 'density')\n",
    "ax.set_xlabel(\"% difference in means\")\n",
    "\n",
    "# вероятность что коэффициент удержания в течение 7 дней после установки больше для контрольной группы (заглушка на 30 уровне игры)\n",
    "prob = (boot_7d['diff'] > 0).sum() / len(boot_7d['diff'])\n",
    "\n",
    "print('{:.1%}'.format(prob))"
   ]
  },
  {
   "cell_type": "markdown",
   "metadata": {
    "dc": {
     "key": "75"
    },
    "deletable": false,
    "editable": false,
    "run_control": {
     "frozen": true
    },
    "tags": [
     "context"
    ]
   },
   "source": [
    "## 11.  Заключение\n",
    "<p> Результат полученный в результате бутстрэп анализа подтверждает, что коэффициент удержания пользователей в течение первых 7 дней после установки выше для контрольной группы с блокировкой на 30 уровне игры, чем у группы с блокировкой установленной на 40 уровне.\n",
    "    \n",
    "На основе этих данных мы можем сделать вывод, если мы хотим сохранить высокий коэффициент удержания как в первый день после установки так и по истечение 7 дней, мы должны оставить блокировку на 30 уровне игры без изменений. Помимо удержания существует другие метрики на которые стоит обратить внимание, такие как сколько раундов в игре приходится на игрока или какое количество платных транзакций было произведенно как в контрольной так и тестовой группе. Однако коэффициент удержания, является одной из наиболее важных метрик, т.к. если мы не сможем удерживать пользователей и наращивать пользовательскую базу, будет уже не столько выжным вопрос о том, сколько в среднем игрок тратить денег при прохождении игры.\n",
    "    \n",
    "    \n",
    "<p>Одним из ключевых вопросов остается вопрос: почему коэффициент удержания выше когда мы располагаем заглушку на 30 уровне игры,а не на 40? Одно из возможных объяснений может быть: механизм <em>Гедонистической адаптации</em>. Краткая суть данного механизма заключается в том, что в независимости от всех остальных факторов с течением времени пользователь начинает терять интерес, если мы предоставим ему свободный неограниченный доступ например к игре. Если же мы используем механиз блокировки игры на неопределнное время по проществии 30 уровней, то мы таким образом стимулируем пользователя вернуться к игре вновь через какое-то время и при этом сохранить его инетерс к игре.Если же мы передвигаем блокировку на более высокий уровень игры к примеру на 40, количество игроков достигнувших этого уровня по поределению меньше потому что к этому моменту они могут просто потерять интерес к игре.</p>"
   ]
  },
  {
   "cell_type": "code",
   "execution_count": null,
   "metadata": {},
   "outputs": [],
   "source": []
  }
 ],
 "metadata": {
  "kernelspec": {
   "display_name": "Python 3",
   "language": "python",
   "name": "python3"
  },
  "language_info": {
   "codemirror_mode": {
    "name": "ipython",
    "version": 3
   },
   "file_extension": ".py",
   "mimetype": "text/x-python",
   "name": "python",
   "nbconvert_exporter": "python",
   "pygments_lexer": "ipython3",
   "version": "3.6.8"
  }
 },
 "nbformat": 4,
 "nbformat_minor": 2
}
