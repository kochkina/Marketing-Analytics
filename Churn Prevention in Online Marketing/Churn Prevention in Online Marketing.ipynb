{
 "cells": [
  {
   "cell_type": "markdown",
   "metadata": {},
   "source": [
    "#### Загрузка библиотек и необходимых модулей"
   ]
  },
  {
   "cell_type": "code",
   "execution_count": 1,
   "metadata": {},
   "outputs": [],
   "source": [
    "options(warn=-1)"
   ]
  },
  {
   "cell_type": "raw",
   "metadata": {},
   "source": [
    "install.packages(\"descr\", dependencies = TRUE)\n",
    "install.packages(\"SDMTools\", dependencies = TRUE)\n",
    "install.packages(\"caret\", dependencies = TRUE)"
   ]
  },
  {
   "cell_type": "code",
   "execution_count": 2,
   "metadata": {},
   "outputs": [],
   "source": [
    "suppressWarnings(library(dplyr))\n",
    "suppressWarnings(library(readr))\n",
    "suppressWarnings(library(ggplot2))\n",
    "suppressWarnings(library(descr))\n",
    "suppressWarnings(library(SDMTools))"
   ]
  },
  {
   "cell_type": "code",
   "execution_count": 4,
   "metadata": {},
   "outputs": [],
   "source": [
    "suppressWarnings(library(lattice))\n",
    "suppressWarnings(library(ggplot2))\n",
    "suppressWarnings(library(caret))"
   ]
  },
  {
   "cell_type": "code",
   "execution_count": 5,
   "metadata": {},
   "outputs": [
    {
     "name": "stdout",
     "output_type": "stream",
     "text": [
      "[1] \"churn_data.csv\"       \"online-Copy1.csv\"     \"online.csv\"          \n",
      "[4] \"online12M.csv\"        \"salesData.csv\"        \"salesDataMon2To4.csv\"\n"
     ]
    }
   ],
   "source": [
    "print(list.files(\"data\"))"
   ]
  },
  {
   "cell_type": "markdown",
   "metadata": {},
   "source": [
    "#### Загрузка и первичный анализ данных"
   ]
  },
  {
   "cell_type": "code",
   "execution_count": 6,
   "metadata": {},
   "outputs": [],
   "source": [
    "churnData <- read.csv(\"data/churn_data.csv\")\n",
    "churnData %>% mutate_if(is.integer, as.factor) -> churnData\n",
    "churnData$orderDate <- as.Date(churnData$orderDate,format=\"%Y-%m-%d\")"
   ]
  },
  {
   "cell_type": "code",
   "execution_count": 7,
   "metadata": {},
   "outputs": [
    {
     "name": "stdout",
     "output_type": "stream",
     "text": [
      "'data.frame':\t45236 obs. of  22 variables:\n",
      " $ X                : Factor w/ 45236 levels \"1\",\"2\",\"3\",\"4\",..: 1 2 3 4 5 6 7 8 9 10 ...\n",
      " $ ID               : Factor w/ 45236 levels \"1\",\"3\",\"5\",\"7\",..: 1 2 3 4 5 6 7 8 9 10 ...\n",
      " $ orderDate        : Date, format: \"2014-12-23\" \"2014-09-10\" ...\n",
      " $ title            : Factor w/ 4 levels \"Company\",\"Mr\",..: 2 2 2 2 2 2 2 3 1 2 ...\n",
      " $ newsletter       : Factor w/ 2 levels \"0\",\"1\": 1 1 1 1 1 1 2 1 2 1 ...\n",
      " $ websiteDesign    : Factor w/ 3 levels \"1\",\"2\",\"3\": 2 1 1 3 3 1 1 2 2 2 ...\n",
      " $ paymentMethod    : Factor w/ 4 levels \"Cash\",\"Credit Card\",..: 3 4 1 1 1 2 4 4 3 1 ...\n",
      " $ couponDiscount   : Factor w/ 2 levels \"0\",\"1\": 2 1 1 1 1 2 1 1 2 1 ...\n",
      " $ purchaseValue    : Factor w/ 5 levels \"1\",\"2\",\"3\",\"4\",..: 2 1 4 4 4 4 4 5 1 3 ...\n",
      " $ giftwrapping     : Factor w/ 2 levels \"0\",\"1\": 1 1 1 1 1 1 1 1 1 1 ...\n",
      " $ throughAffiliate : Factor w/ 2 levels \"0\",\"1\": 2 1 1 2 2 1 1 2 2 2 ...\n",
      " $ shippingFees     : Factor w/ 2 levels \"0\",\"1\": 1 2 1 1 1 1 1 1 2 1 ...\n",
      " $ dvd              : Factor w/ 6 levels \"0\",\"1\",\"2\",\"3\",..: 1 1 1 2 3 5 1 4 1 1 ...\n",
      " $ blueray          : Factor w/ 5 levels \"0\",\"1\",\"2\",\"3\",..: 2 1 1 1 1 1 1 1 2 1 ...\n",
      " $ vinyl            : Factor w/ 5 levels \"0\",\"1\",\"2\",\"3\",..: 1 1 2 1 1 1 1 1 1 1 ...\n",
      " $ videogame        : Factor w/ 2 levels \"0\",\"1\": 1 1 1 1 1 1 1 1 1 1 ...\n",
      " $ videogameDownload: Factor w/ 2 levels \"0\",\"1\": 1 1 1 1 1 1 1 1 1 1 ...\n",
      " $ tvEquiment       : Factor w/ 2 levels \"0\",\"1\": 1 1 1 1 1 1 1 1 1 1 ...\n",
      " $ prodOthers       : Factor w/ 2 levels \"0\",\"1\": 1 1 1 1 1 1 1 1 1 1 ...\n",
      " $ prodRemitted     : Factor w/ 2 levels \"0\",\"1\": 1 1 1 1 1 1 1 1 1 1 ...\n",
      " $ prodSecondHand   : Factor w/ 2 levels \"0\",\"1\": 1 1 1 1 1 1 1 1 1 1 ...\n",
      " $ returnCustomer   : Factor w/ 2 levels \"0\",\"1\": 1 1 1 1 1 1 1 1 1 1 ...\n"
     ]
    }
   ],
   "source": [
    "str(churnData)"
   ]
  },
  {
   "cell_type": "markdown",
   "metadata": {},
   "source": [
    "# __Анализ и предотвращение оттока в интернет-маркетинге__\n",
    "\n",
    "Отток клиентов (Churn Rate) является очень важным показателем, так как во всех сферах бизнеса существуют конкуренты, которые в любой момент могут предложить пользователям более выгодные условия. Если основной доход компании зависит от постоянных клиентов, то необходимо добиваться как снижения оттока клиентов. Предотвращение оттока это мера, которая гарантирует, что покупатель посетить интернет-магазин вновь. \n",
    "\n",
    "<pr>__Почему важен анализ и предотвращения оттока клиентов:__ \n",
    "* приобретение новых покупателей/пользователей намного дороже чем удержание существующих;\n",
    "\n",
    "<pr>__Ключевой вопрос при анализе и предотвращении оттока клиентов:__ \n",
    "* каким образом отличить лояльных клиентов от тех кто совершит покупки толко один раз?\n",
    "\n",
    "<pr>__Применение анализа оттока клиентов на практике:__ \n",
    "* убедить текущих клиентов быть лояльными и совершить покупку вновь.\n",
    "* предотвращение оттока это мера, которая гарантирует, что покупатель посетить интернет-магазин вновь."
   ]
  },
  {
   "cell_type": "markdown",
   "metadata": {},
   "source": [
    "В данном кейсе для предсказания вероятности оттока клиентов была создана модель с использованием метода логистической регрессии. На основе данной модели с большой долей вероятности мы можем делать предсказания потеряем ли мы данного клиента или нет. Также при помощи данной модели мы можем оценить насколько эффективны наши мероприятия по удержанию клиентов, и есть ли связь между оттоком клиентов и некоторыми факторами, информацию о которых содержит текущие данные."
   ]
  },
  {
   "cell_type": "markdown",
   "metadata": {},
   "source": [
    "## Визуальный анализ данных\n",
    "из приведенного ниже графика видно, что подавляющее большинство покупателей 81,7% совершает покупки лишь один раз."
   ]
  },
  {
   "cell_type": "code",
   "execution_count": 8,
   "metadata": {},
   "outputs": [
    {
     "data": {
      "text/html": [
       "<table>\n",
       "<thead><tr><th></th><th scope=col>returnCustomer</th><th scope=col></th></tr></thead>\n",
       "<tbody>\n",
       "\t<tr><th scope=row>0</th><td>36964    </td><td>0.8171368</td></tr>\n",
       "\t<tr><th scope=row>1</th><td> 8272    </td><td>0.1828632</td></tr>\n",
       "</tbody>\n",
       "</table>\n"
      ],
      "text/latex": [
       "\\begin{tabular}{r|ll}\n",
       "  & returnCustomer & \\\\\n",
       "\\hline\n",
       "\t0 & 36964     & 0.8171368\\\\\n",
       "\t1 &  8272     & 0.1828632\\\\\n",
       "\\end{tabular}\n"
      ],
      "text/markdown": [
       "\n",
       "| <!--/--> | returnCustomer |  | \n",
       "|---|---|\n",
       "| 0 | 36964     | 0.8171368 | \n",
       "| 1 |  8272     | 0.1828632 | \n",
       "\n",
       "\n"
      ],
      "text/plain": [
       "  returnCustomer          \n",
       "0 36964          0.8171368\n",
       "1  8272          0.1828632"
      ]
     },
     "metadata": {},
     "output_type": "display_data"
    }
   ],
   "source": [
    "returnCustomer <- table(churnData$returnCustomer)\n",
    "cbind(returnCustomer,prop.table(returnCustomer))"
   ]
  },
  {
   "cell_type": "code",
   "execution_count": 9,
   "metadata": {},
   "outputs": [
    {
     "name": "stderr",
     "output_type": "stream",
     "text": [
      "Warning message:\n",
      "“Ignoring unknown parameters: binwidth, bins, pad”"
     ]
    },
    {
     "data": {},
     "metadata": {},
     "output_type": "display_data"
    },
    {
     "data": {
      "image/png": "[encoded data removed]",
      "text/plain": [
       "plot without title"
      ]
     },
     "metadata": {},
     "output_type": "display_data",
     "source": "R display func"
    }
   ],
   "source": [
    "library(repr)\n",
    "options(repr.plot.width=4, repr.plot.height=5)\n",
    "\n",
    "ggplot(churnData, aes(x = returnCustomer)) + \n",
    "    geom_histogram(stat = \"count\") "
   ]
  },
  {
   "cell_type": "markdown",
   "metadata": {},
   "source": [
    "# __Основные этапы создания и выбора модели__\n",
    "* Подготовка данных для последующего построения модели\n",
    "* Спецификация модели (выбор параметров с использованием статистических гипотез)\n",
    "* Интерпретация параметров и коэффициентов\n",
    "* Оценка модели"
   ]
  },
  {
   "cell_type": "markdown",
   "metadata": {},
   "source": [
    "## __Подготовка данных для последующего построения модели__\n",
    "<pr>При обучение модели на имеющихся данных  основной проблемой является переобучение. При переобучении модель показывает отличные результаты на текущих данных, но не может обобщить основные тренды. В результате при использовании модели для анализа новых данных полученный результат будет примерно таким же как и у базовой модели (baseline model), согласно которой интересующие нас событие произойдет с вероятностью 50%.<pr>\n",
    "    \n",
    "<pr>Для того чтобы избежать переобучения нам необходимо разделить данные случайным образом на две части, одна из них будет так называемый training set на котором будет происходит обучение модели. Вторая часть test set служит для оценки нашей модели, как хорошо построенная модель способна предсказать интересующий нас показатель на новых данных. Данный подход называется Out-of-Sample Validation<pr>  "
   ]
  },
  {
   "cell_type": "markdown",
   "metadata": {},
   "source": [
    "#### __Out-of-Sample Validation (разделение данных на две части training and test)__"
   ]
  },
  {
   "cell_type": "code",
   "execution_count": 10,
   "metadata": {},
   "outputs": [],
   "source": [
    "# set.seed позволяет каждый раз воспроизводить компоненты сгенирированные случайным образом\n",
    "set.seed(534381) \n",
    " \n",
    "# сгенирировать индексы случайным для training и test set \n",
    "trainIndex <- createDataPartition(churnData$returnCustomer,p=0.75,list=FALSE)\n",
    "\n",
    "#разделить данные на training/testing set \n",
    "train <- churnData[trainIndex,] #training data (75% of data)\n",
    "test <- churnData[-trainIndex,] #testing data (25% of data)"
   ]
  },
  {
   "cell_type": "markdown",
   "metadata": {},
   "source": [
    "## __Спецификация модели (выбор параметров с использованием статистических гипотез)__"
   ]
  },
  {
   "cell_type": "markdown",
   "metadata": {},
   "source": [
    "#### Модель построенная на основе всех параметров, информация о которых содержиться в данных, за исключением X + ID + orderDate"
   ]
  },
  {
   "cell_type": "code",
   "execution_count": 11,
   "metadata": {},
   "outputs": [],
   "source": [
    "logitModelFull <- glm(returnCustomer ~ . -(X + ID + orderDate), family = binomial, train)"
   ]
  },
  {
   "cell_type": "code",
   "execution_count": 14,
   "metadata": {},
   "outputs": [
    {
     "data": {
      "text/plain": [
       "\n",
       "Call:\n",
       "glm(formula = returnCustomer ~ . - (X + ID + orderDate), family = binomial, \n",
       "    data = train)\n",
       "\n",
       "Deviance Residuals: \n",
       "    Min       1Q   Median       3Q      Max  \n",
       "-1.5932  -0.6615  -0.5652  -0.4457   2.3890  \n",
       "\n",
       "Coefficients:\n",
       "                             Estimate Std. Error z value Pr(>|z|)    \n",
       "(Intercept)                  -1.63522    0.07664 -21.337  < 2e-16 ***\n",
       "titleMr                       0.20056    0.06047   3.317 0.000911 ***\n",
       "titleMrs                      0.22364    0.06232   3.589 0.000332 ***\n",
       "titleOthers                   0.76950    0.06607  11.647  < 2e-16 ***\n",
       "newsletter1                   0.54731    0.03497  15.653  < 2e-16 ***\n",
       "websiteDesign2               -0.36683    0.18661  -1.966 0.049322 *  \n",
       "websiteDesign3               -0.17010    0.18220  -0.934 0.350496    \n",
       "paymentMethodCredit Card     -0.21181    0.05656  -3.745 0.000181 ***\n",
       "paymentMethodCurrent Account -0.17818    0.04847  -3.676 0.000237 ***\n",
       "paymentMethodInvoice         -0.15472    0.04278  -3.617 0.000298 ***\n",
       "couponDiscount1              -0.30613    0.05042  -6.071 1.27e-09 ***\n",
       "purchaseValue2               -0.16359    0.05187  -3.154 0.001612 ** \n",
       "purchaseValue3               -0.31755    0.05149  -6.167 6.94e-10 ***\n",
       "purchaseValue4               -0.23622    0.05182  -4.559 5.15e-06 ***\n",
       "purchaseValue5               -0.04814    0.06526  -0.738 0.460722    \n",
       "giftwrapping1                -0.05023    0.22079  -0.228 0.820033    \n",
       "throughAffiliate1             0.40031    0.18325   2.185 0.028925 *  \n",
       "shippingFees1                -0.54521    0.05641  -9.665  < 2e-16 ***\n",
       "dvd1                          0.01568    0.03718   0.422 0.673264    \n",
       "dvd2                          0.11116    0.05454   2.038 0.041520 *  \n",
       "dvd3                          0.24170    0.08062   2.998 0.002716 ** \n",
       "dvd4                          0.04924    0.12526   0.393 0.694215    \n",
       "dvd5                          0.34749    0.16102   2.158 0.030927 *  \n",
       "blueray1                      0.30862    0.05081   6.073 1.25e-09 ***\n",
       "blueray2                      0.17922    0.07412   2.418 0.015612 *  \n",
       "blueray3                      0.36133    0.09873   3.660 0.000253 ***\n",
       "blueray4                      0.33892    0.14936   2.269 0.023257 *  \n",
       "vinyl1                        0.11150    0.06859   1.626 0.104049    \n",
       "vinyl2                        0.17242    0.10262   1.680 0.092925 .  \n",
       "vinyl3                        0.12065    0.13181   0.915 0.360028    \n",
       "vinyl4                       -0.03430    0.17866  -0.192 0.847753    \n",
       "videogame1                   -0.18998    0.12812  -1.483 0.138108    \n",
       "videogameDownload1            0.21510    0.06203   3.467 0.000525 ***\n",
       "tvEquiment1                  -9.70071   68.55887  -0.141 0.887479    \n",
       "prodOthers1                  -0.05029    0.08933  -0.563 0.573469    \n",
       "prodRemitted1                 0.93930    0.08809  10.662  < 2e-16 ***\n",
       "prodSecondHand1               0.06847    0.11787   0.581 0.561296    \n",
       "---\n",
       "Signif. codes:  0 ‘***’ 0.001 ‘**’ 0.01 ‘*’ 0.05 ‘.’ 0.1 ‘ ’ 1\n",
       "\n",
       "(Dispersion parameter for binomial family taken to be 1)\n",
       "\n",
       "    Null deviance: 32279  on 33926  degrees of freedom\n",
       "Residual deviance: 31167  on 33890  degrees of freedom\n",
       "AIC: 31241\n",
       "\n",
       "Number of Fisher Scoring iterations: 9\n"
      ]
     },
     "metadata": {},
     "output_type": "display_data"
    }
   ],
   "source": [
    "summary(logitModelFull) "
   ]
  },
  {
   "cell_type": "markdown",
   "metadata": {},
   "source": [
    "## __Выбор параметров с использованием статистических гипотез__\n",
    "Для выбора параметров будущей модели наиболее удобным и часто используемым инструментом является использование статистических гипотез. Если в результате тестирования статистической гипотезы, мы получаем значения появление которых (или еще более крайних) маловероятно (статистически значимый результат), то мы отвергаем нулевую гипотезу и приходим к выводу что в данном случае существует взаимосвязь (корреляция) между исследуемыми переменными.\n",
    "\n",
    "<pr>__В качестве р-значения (уровня значимости) по умолчанию используется значение равное 0.05:__ Вероятность что коэффициента имеет данное значение составляет лишь 5%, если H0 Нулевая гипотеза (предположение о том, что нет никакой корреляции между независимой и зависимой переменными и коэффициент при независимой переменной равен нулю) верна.<pr>\n",
    "\n",
    "<pr>__Статистические гипотезы:__ \n",
    "* H0 Нулевая гипотеза нет никакой в зависимости (корреляции) между независимой и зависимой переменными: Z-value = 0 \n",
    "* H1 Гипотеза есть взаимосвязь (корреляция)между независимой зависимой переменными: Z-value = 17.280<pr>\n",
    "\n",
    "<pr> если H0 Нулевая гипотеза верна тогда вероятность того, что значение Z-value будет равно 17.280 или будет больше составляет меньше 5%. Следовательно мы отказываемся от H0 Нулевой гипотезы, т.к. она является маловероятной и допускаем что существует корреляция между независимой и зависимой переменными.<pr>\n",
    "\n",
    "<pr>__Пример:__ \n",
    "<br>__H0:__ Влияние данной переменной на невыплату текущего платежа равно нулю."
   ]
  },
  {
   "cell_type": "markdown",
   "metadata": {},
   "source": [
    "#### Модель построенная с учетом переменных, которые являются статистически значимыми на основе анализа полной модели"
   ]
  },
  {
   "cell_type": "code",
   "execution_count": 15,
   "metadata": {},
   "outputs": [],
   "source": [
    "logitModelNew <- glm(returnCustomer ~ title + newsletter + websiteDesign + \n",
    "                     paymentMethod + couponDiscount + purchaseValue + throughAffiliate + \n",
    "                     shippingFees + dvd + blueray + vinyl + videogameDownload + \n",
    "                     prodOthers + prodRemitted, family = binomial, train)"
   ]
  },
  {
   "cell_type": "code",
   "execution_count": 16,
   "metadata": {},
   "outputs": [
    {
     "data": {
      "text/plain": [
       "\n",
       "Call:\n",
       "glm(formula = returnCustomer ~ title + newsletter + websiteDesign + \n",
       "    paymentMethod + couponDiscount + purchaseValue + throughAffiliate + \n",
       "    shippingFees + dvd + blueray + vinyl + videogameDownload + \n",
       "    prodOthers + prodRemitted, family = binomial, data = train)\n",
       "\n",
       "Deviance Residuals: \n",
       "   Min      1Q  Median      3Q     Max  \n",
       "-1.591  -0.661  -0.565  -0.445   2.393  \n",
       "\n",
       "Coefficients:\n",
       "                             Estimate Std. Error z value Pr(>|z|)    \n",
       "(Intercept)                  -1.63709    0.07658 -21.378  < 2e-16 ***\n",
       "titleMr                       0.19821    0.06045   3.279 0.001041 ** \n",
       "titleMrs                      0.22262    0.06232   3.572 0.000354 ***\n",
       "titleOthers                   0.76716    0.06605  11.614  < 2e-16 ***\n",
       "newsletter1                   0.54633    0.03496  15.627  < 2e-16 ***\n",
       "websiteDesign2               -0.37360    0.18649  -2.003 0.045139 *  \n",
       "websiteDesign3               -0.17502    0.18209  -0.961 0.336465    \n",
       "paymentMethodCredit Card     -0.21591    0.05648  -3.823 0.000132 ***\n",
       "paymentMethodCurrent Account -0.17259    0.04830  -3.573 0.000353 ***\n",
       "paymentMethodInvoice         -0.14820    0.04258  -3.480 0.000501 ***\n",
       "couponDiscount1              -0.31025    0.05037  -6.159 7.31e-10 ***\n",
       "purchaseValue2               -0.16447    0.05187  -3.171 0.001521 ** \n",
       "purchaseValue3               -0.32188    0.05142  -6.259 3.86e-10 ***\n",
       "purchaseValue4               -0.24208    0.05171  -4.681 2.85e-06 ***\n",
       "purchaseValue5               -0.05684    0.06513  -0.873 0.382788    \n",
       "throughAffiliate1             0.40540    0.18315   2.213 0.026864 *  \n",
       "shippingFees1                -0.54299    0.05600  -9.696  < 2e-16 ***\n",
       "dvd1                          0.01955    0.03712   0.527 0.598493    \n",
       "dvd2                          0.11585    0.05448   2.127 0.033444 *  \n",
       "dvd3                          0.24683    0.08057   3.063 0.002188 ** \n",
       "dvd4                          0.05205    0.12525   0.416 0.677718    \n",
       "dvd5                          0.35137    0.16100   2.182 0.029078 *  \n",
       "blueray1                      0.30943    0.05080   6.091 1.12e-09 ***\n",
       "blueray2                      0.18180    0.07411   2.453 0.014165 *  \n",
       "blueray3                      0.36614    0.09869   3.710 0.000207 ***\n",
       "blueray4                      0.34545    0.14931   2.314 0.020685 *  \n",
       "vinyl1                        0.11669    0.06849   1.704 0.088453 .  \n",
       "vinyl2                        0.17996    0.10249   1.756 0.079114 .  \n",
       "vinyl3                        0.12769    0.13175   0.969 0.332448    \n",
       "vinyl4                       -0.02599    0.17859  -0.146 0.884311    \n",
       "videogameDownload1            0.21721    0.06198   3.505 0.000457 ***\n",
       "prodOthers1                  -0.04584    0.08927  -0.513 0.607652    \n",
       "prodRemitted1                 0.94035    0.08809  10.675  < 2e-16 ***\n",
       "---\n",
       "Signif. codes:  0 ‘***’ 0.001 ‘**’ 0.01 ‘*’ 0.05 ‘.’ 0.1 ‘ ’ 1\n",
       "\n",
       "(Dispersion parameter for binomial family taken to be 1)\n",
       "\n",
       "    Null deviance: 32279  on 33926  degrees of freedom\n",
       "Residual deviance: 31172  on 33894  degrees of freedom\n",
       "AIC: 31238\n",
       "\n",
       "Number of Fisher Scoring iterations: 4\n"
      ]
     },
     "metadata": {},
     "output_type": "display_data"
    }
   ],
   "source": [
    "summary(logitModelNew) "
   ]
  },
  {
   "cell_type": "markdown",
   "metadata": {},
   "source": [
    "## __Интерпретация параметров и коэффициентов__"
   ]
  },
  {
   "cell_type": "code",
   "execution_count": 17,
   "metadata": {},
   "outputs": [
    {
     "name": "stdout",
     "output_type": "stream",
     "text": [
      "                 (Intercept)                      titleMr \n",
      "                        0.19                         1.22 \n",
      "                    titleMrs                  titleOthers \n",
      "                        1.25                         2.15 \n",
      "                 newsletter1               websiteDesign2 \n",
      "                        1.73                         0.69 \n",
      "              websiteDesign3     paymentMethodCredit Card \n",
      "                        0.84                         0.81 \n",
      "paymentMethodCurrent Account         paymentMethodInvoice \n",
      "                        0.84                         0.86 \n",
      "             couponDiscount1               purchaseValue2 \n",
      "                        0.73                         0.85 \n",
      "              purchaseValue3               purchaseValue4 \n",
      "                        0.72                         0.78 \n",
      "              purchaseValue5            throughAffiliate1 \n",
      "                        0.94                         1.50 \n",
      "               shippingFees1                         dvd1 \n",
      "                        0.58                         1.02 \n",
      "                        dvd2                         dvd3 \n",
      "                        1.12                         1.28 \n",
      "                        dvd4                         dvd5 \n",
      "                        1.05                         1.42 \n",
      "                    blueray1                     blueray2 \n",
      "                        1.36                         1.20 \n",
      "                    blueray3                     blueray4 \n",
      "                        1.44                         1.41 \n",
      "                      vinyl1                       vinyl2 \n",
      "                        1.12                         1.20 \n",
      "                      vinyl3                       vinyl4 \n",
      "                        1.14                         0.97 \n",
      "          videogameDownload1                  prodOthers1 \n",
      "                        1.24                         0.96 \n",
      "               prodRemitted1 \n",
      "                        2.56 \n"
     ]
    }
   ],
   "source": [
    "coefsExp <- coef(logitModelNew) %>% exp() %>% round(2) \n",
    "print(coefsExp)"
   ]
  },
  {
   "cell_type": "markdown",
   "metadata": {},
   "source": [
    "* покупатели, которые оформили подписку на рассылку, вероятнее всего совершит повторную покупку\n",
    "* покупатели, которые воспользовались купоном вероятнее всего не вернуться\n",
    "* покупатели у которых была бесплатная доставка вероятнее всего вернуться и совершать заказ вновь"
   ]
  },
  {
   "cell_type": "markdown",
   "metadata": {},
   "source": [
    "## __Оценка модели__\n",
    "\n",
    "### существующие методы оценки логистических моделей\n",
    "* Альтернативные информационные критерии (Pseudo R2 Statistics)\n",
    "* Матрица ошибок (Confusion Matrix)\n",
    "* Точность модели (Accuracy)\n",
    "* Перекрестная проверка модели"
   ]
  },
  {
   "cell_type": "markdown",
   "metadata": {},
   "source": [
    "### __Альтернативные информационные критерии (Pseudo R2 Statistics)__\n",
    "* McFadden\n",
    "* Nagelkerke\n",
    "* Cox & Snell\n",
    "\n",
    "__Интерпретация альтернативных информационных критериев:__\n",
    "* Приемлемый, если критерии > 0.2 \n",
    "* Хороший, если критерии  > 0.4 \n",
    "* Очень хороший, если критерии > 0.5 "
   ]
  },
  {
   "cell_type": "code",
   "execution_count": 18,
   "metadata": {},
   "outputs": [
    {
     "data": {
      "text/plain": [
       "Chi2                 1106.488 \n",
       "Df                   32 \n",
       "Sig.                 0 \n",
       "Cox and Snell Index  0.03208769 \n",
       "Nagelkerke Index     0.05227661 \n",
       "McFadden's R2        0.03427924 "
      ]
     },
     "metadata": {},
     "output_type": "display_data"
    }
   ],
   "source": [
    "LogRegR2(logitModelNew) "
   ]
  },
  {
   "cell_type": "markdown",
   "metadata": {},
   "source": [
    "### __Матрица ошибок (Confusion Matrix)__"
   ]
  },
  {
   "cell_type": "markdown",
   "metadata": {},
   "source": [
    "#### Предсказанное значение вероятности, что клиент либо посетит вновь, либо больше не посетит интернет-магазин"
   ]
  },
  {
   "cell_type": "code",
   "execution_count": 19,
   "metadata": {},
   "outputs": [
    {
     "data": {
      "text/html": [
       "<table>\n",
       "<thead><tr><th></th><th scope=col>returnCustomer</th><th scope=col>predNew</th></tr></thead>\n",
       "<tbody>\n",
       "\t<tr><th scope=row>45212</th><td>0        </td><td>0.1017566</td></tr>\n",
       "\t<tr><th scope=row>45225</th><td>0        </td><td>0.1163592</td></tr>\n",
       "\t<tr><th scope=row>45227</th><td>0        </td><td>0.1320433</td></tr>\n",
       "\t<tr><th scope=row>45230</th><td>1        </td><td>0.2670244</td></tr>\n",
       "\t<tr><th scope=row>45233</th><td>1        </td><td>0.2584148</td></tr>\n",
       "\t<tr><th scope=row>45236</th><td>0        </td><td>0.3213470</td></tr>\n",
       "</tbody>\n",
       "</table>\n"
      ],
      "text/latex": [
       "\\begin{tabular}{r|ll}\n",
       "  & returnCustomer & predNew\\\\\n",
       "\\hline\n",
       "\t45212 & 0         & 0.1017566\\\\\n",
       "\t45225 & 0         & 0.1163592\\\\\n",
       "\t45227 & 0         & 0.1320433\\\\\n",
       "\t45230 & 1         & 0.2670244\\\\\n",
       "\t45233 & 1         & 0.2584148\\\\\n",
       "\t45236 & 0         & 0.3213470\\\\\n",
       "\\end{tabular}\n"
      ],
      "text/markdown": [
       "\n",
       "| <!--/--> | returnCustomer | predNew | \n",
       "|---|---|---|---|---|---|\n",
       "| 45212 | 0         | 0.1017566 | \n",
       "| 45225 | 0         | 0.1163592 | \n",
       "| 45227 | 0         | 0.1320433 | \n",
       "| 45230 | 1         | 0.2670244 | \n",
       "| 45233 | 1         | 0.2584148 | \n",
       "| 45236 | 0         | 0.3213470 | \n",
       "\n",
       "\n"
      ],
      "text/plain": [
       "      returnCustomer predNew  \n",
       "45212 0              0.1017566\n",
       "45225 0              0.1163592\n",
       "45227 0              0.1320433\n",
       "45230 1              0.2670244\n",
       "45233 1              0.2584148\n",
       "45236 0              0.3213470"
      ]
     },
     "metadata": {},
     "output_type": "display_data"
    }
   ],
   "source": [
    "test$predNew <- predict(logitModelNew, type = \"response\", newdata = test, na.action = na.exclude) \n",
    "\n",
    "test %>% select(returnCustomer, predNew) %>% tail() "
   ]
  },
  {
   "cell_type": "markdown",
   "metadata": {},
   "source": [
    "#### построение матрицы ошибок на основе предсказанных значений вероятности"
   ]
  },
  {
   "cell_type": "code",
   "execution_count": 20,
   "metadata": {},
   "outputs": [
    {
     "data": {
      "text/plain": [
       "    obs\n",
       "pred    0    1\n",
       "   0 8693 1800\n",
       "   1  548  268\n",
       "attr(,\"class\")\n",
       "[1] \"confusion.matrix\""
      ]
     },
     "metadata": {},
     "output_type": "display_data"
    }
   ],
   "source": [
    "confMatrixNew <- confusion.matrix(test$returnCustomer, test$predNew,  \n",
    "                 threshold = 0.3) \n",
    "confMatrixNew "
   ]
  },
  {
   "cell_type": "markdown",
   "metadata": {},
   "source": [
    "### __Точность модели (Accuracy)__"
   ]
  },
  {
   "cell_type": "code",
   "execution_count": 21,
   "metadata": {},
   "outputs": [
    {
     "data": {
      "text/html": [
       "0.792377752232735"
      ],
      "text/latex": [
       "0.792377752232735"
      ],
      "text/markdown": [
       "0.792377752232735"
      ],
      "text/plain": [
       "[1] 0.7923778"
      ]
     },
     "metadata": {},
     "output_type": "display_data"
    }
   ],
   "source": [
    "accuracyNew <- sum(diag(confMatrixNew)) / sum(confMatrixNew) \n",
    "accuracyNew "
   ]
  },
  {
   "cell_type": "markdown",
   "metadata": {},
   "source": [
    "### __Перекрестная проверка модели__\n",
    "\n",
    "Перекрёстная проверка(скользящий контроль, англ. cross-validation) это метод оценки аналитической модели и её поведения на независимых данных. При оценке модели имеющиеся в наличии данные разбиваются на k частей. Затем на k−1 частях данных производится обучение модели, а оставшаяся часть данных используется для тестирования. Процедура повторяется k раз; в итоге каждая из k частей данных используется для тестирования. В результате получается оценка эффективности выбранной модели с наиболее равномерным использованием имеющихся данных. "
   ]
  },
  {
   "cell_type": "markdown",
   "metadata": {},
   "source": [
    "#### Построение и перекрестная проверка модели при помощи caret package. \n",
    "В данном случае значение k равно 5 (наиболее часто используемое значение на практике), т.е тренировка производится на 4 частях данных, оставшаяся часть используется для проверки модели"
   ]
  },
  {
   "cell_type": "code",
   "execution_count": 22,
   "metadata": {},
   "outputs": [
    {
     "name": "stdout",
     "output_type": "stream",
     "text": [
      "+ Fold1: parameter=none \n",
      "- Fold1: parameter=none \n",
      "+ Fold2: parameter=none \n",
      "- Fold2: parameter=none \n",
      "+ Fold3: parameter=none \n",
      "- Fold3: parameter=none \n",
      "+ Fold4: parameter=none \n",
      "- Fold4: parameter=none \n",
      "+ Fold5: parameter=none \n",
      "- Fold5: parameter=none \n",
      "Aggregating results\n",
      "Fitting final model on full training set\n"
     ]
    }
   ],
   "source": [
    "model <- train(returnCustomer ~ title + newsletter + websiteDesign + \n",
    "               paymentMethod + couponDiscount + purchaseValue + throughAffiliate + \n",
    "               shippingFees + dvd + blueray + vinyl + videogameDownload + \n",
    "               prodOthers + prodRemitted, data = train, method = \"glm\",\n",
    "               trControl = trainControl(method = \"cv\", number = 5, verboseIter= TRUE))"
   ]
  },
  {
   "cell_type": "code",
   "execution_count": 27,
   "metadata": {},
   "outputs": [
    {
     "name": "stdout",
     "output_type": "stream",
     "text": [
      "  parameter  Accuracy       Kappa   AccuracySD     KappaSD\n",
      "1      none 0.8170484 0.007329292 0.0002580624 0.001656689\n"
     ]
    }
   ],
   "source": [
    "print(model$results)"
   ]
  },
  {
   "cell_type": "markdown",
   "metadata": {},
   "source": [
    "## Вывод:\n",
    "в данном примере был произведен анализ от каких факторов зависит отток клиентов и построена модель для построения прогноза оттока для текущих и абсолютно новых данных. Данная регрессионная модель способна предсказывать вероятность оттока клиентов с точностью 81,7%. На практике это позволит компании провести различные мероприятия по удержанию клиентов и внести изменения в систему взаимоотношениями с клиентами."
   ]
  }
 ],
 "metadata": {
  "kernelspec": {
   "display_name": "R",
   "language": "R",
   "name": "ir"
  },
  "language_info": {
   "codemirror_mode": "r",
   "file_extension": ".r",
   "mimetype": "text/x-r-source",
   "name": "R",
   "pygments_lexer": "r",
   "version": "3.5.1"
  }
 },
 "nbformat": 4,
 "nbformat_minor": 2
}
