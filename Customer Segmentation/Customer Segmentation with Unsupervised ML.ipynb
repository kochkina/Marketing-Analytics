{
 "cells": [
  {
   "cell_type": "code",
   "execution_count": 34,
   "metadata": {},
   "outputs": [
    {
     "name": "stdout",
     "output_type": "stream",
     "text": [
      "/resources/Portfolio/Marketing Analytics\n",
      "['salesDataMon2To4.csv', 'churn_data.csv', 'online-Copy1.csv', 'online12M.csv', 'online.csv', 'salesData.csv']\n"
     ]
    }
   ],
   "source": [
    "!pwd\n",
    "import os\n",
    "print(os.listdir(\"data/\"))"
   ]
  },
  {
   "cell_type": "code",
   "execution_count": 35,
   "metadata": {},
   "outputs": [
    {
     "name": "stdout",
     "output_type": "stream",
     "text": [
      "/bin/sh: 1: pip3: not found\n"
     ]
    }
   ],
   "source": [
    "!pip3 install seaborn==0.9.0"
   ]
  },
  {
   "cell_type": "markdown",
   "metadata": {},
   "source": [
    "### Загрузка необходимых библиотек и модулей"
   ]
  },
  {
   "cell_type": "code",
   "execution_count": 36,
   "metadata": {},
   "outputs": [],
   "source": [
    "import warnings\n",
    "warnings.filterwarnings('ignore')"
   ]
  },
  {
   "cell_type": "code",
   "execution_count": 37,
   "metadata": {
    "collapsed": true
   },
   "outputs": [],
   "source": [
    "import pandas as pd\n",
    "import numpy as np\n",
    "import datetime as dt"
   ]
  },
  {
   "cell_type": "code",
   "execution_count": 38,
   "metadata": {},
   "outputs": [],
   "source": [
    "%matplotlib inline\n",
    "\n",
    "import matplotlib.pyplot as plt\n",
    "import seaborn as sns\n",
    "sns.set()"
   ]
  },
  {
   "cell_type": "markdown",
   "metadata": {},
   "source": [
    "### Загрузка данных и первичный анализ данных\n",
    "в данном кейс произведен анализ и сегментация клиентов на основе данных онлайн-ритейла"
   ]
  },
  {
   "cell_type": "code",
   "execution_count": 39,
   "metadata": {
    "collapsed": true
   },
   "outputs": [],
   "source": [
    "online = pd.read_csv(\"data/online.csv\")\n",
    "\n",
    "# Converting string dates to datetime64\n",
    "online.InvoiceDate = pd.to_datetime(online.InvoiceDate) "
   ]
  },
  {
   "cell_type": "code",
   "execution_count": 40,
   "metadata": {},
   "outputs": [
    {
     "name": "stdout",
     "output_type": "stream",
     "text": [
      "<class 'pandas.core.frame.DataFrame'>\n",
      "RangeIndex: 70864 entries, 0 to 70863\n",
      "Data columns (total 9 columns):\n",
      "Unnamed: 0     70864 non-null int64\n",
      "InvoiceNo      70864 non-null int64\n",
      "StockCode      70864 non-null object\n",
      "Description    70864 non-null object\n",
      "Quantity       70864 non-null int64\n",
      "InvoiceDate    70864 non-null datetime64[ns]\n",
      "UnitPrice      70864 non-null float64\n",
      "CustomerID     70864 non-null int64\n",
      "Country        70864 non-null object\n",
      "dtypes: datetime64[ns](1), float64(1), int64(4), object(3)\n",
      "memory usage: 4.9+ MB\n"
     ]
    },
    {
     "data": {
      "text/html": [
       "<div>\n",
       "<style scoped>\n",
       "    .dataframe tbody tr th:only-of-type {\n",
       "        vertical-align: middle;\n",
       "    }\n",
       "\n",
       "    .dataframe tbody tr th {\n",
       "        vertical-align: top;\n",
       "    }\n",
       "\n",
       "    .dataframe thead th {\n",
       "        text-align: right;\n",
       "    }\n",
       "</style>\n",
       "<table border=\"1\" class=\"dataframe\">\n",
       "  <thead>\n",
       "    <tr style=\"text-align: right;\">\n",
       "      <th></th>\n",
       "      <th>Unnamed: 0</th>\n",
       "      <th>InvoiceNo</th>\n",
       "      <th>StockCode</th>\n",
       "      <th>Description</th>\n",
       "      <th>Quantity</th>\n",
       "      <th>InvoiceDate</th>\n",
       "      <th>UnitPrice</th>\n",
       "      <th>CustomerID</th>\n",
       "      <th>Country</th>\n",
       "    </tr>\n",
       "  </thead>\n",
       "  <tbody>\n",
       "    <tr>\n",
       "      <th>0</th>\n",
       "      <td>416792</td>\n",
       "      <td>572558</td>\n",
       "      <td>22745</td>\n",
       "      <td>POPPY'S PLAYHOUSE BEDROOM</td>\n",
       "      <td>6</td>\n",
       "      <td>2011-10-25 08:26:00</td>\n",
       "      <td>2.10</td>\n",
       "      <td>14286</td>\n",
       "      <td>United Kingdom</td>\n",
       "    </tr>\n",
       "    <tr>\n",
       "      <th>1</th>\n",
       "      <td>482904</td>\n",
       "      <td>577485</td>\n",
       "      <td>23196</td>\n",
       "      <td>VINTAGE LEAF MAGNETIC NOTEPAD</td>\n",
       "      <td>1</td>\n",
       "      <td>2011-11-20 11:56:00</td>\n",
       "      <td>1.45</td>\n",
       "      <td>16360</td>\n",
       "      <td>United Kingdom</td>\n",
       "    </tr>\n",
       "    <tr>\n",
       "      <th>2</th>\n",
       "      <td>263743</td>\n",
       "      <td>560034</td>\n",
       "      <td>23299</td>\n",
       "      <td>FOOD COVER WITH BEADS SET 2</td>\n",
       "      <td>6</td>\n",
       "      <td>2011-07-14 13:35:00</td>\n",
       "      <td>3.75</td>\n",
       "      <td>13933</td>\n",
       "      <td>United Kingdom</td>\n",
       "    </tr>\n",
       "    <tr>\n",
       "      <th>3</th>\n",
       "      <td>495549</td>\n",
       "      <td>578307</td>\n",
       "      <td>72349B</td>\n",
       "      <td>SET/6 PURPLE BUTTERFLY T-LIGHTS</td>\n",
       "      <td>1</td>\n",
       "      <td>2011-11-23 15:53:00</td>\n",
       "      <td>2.10</td>\n",
       "      <td>17290</td>\n",
       "      <td>United Kingdom</td>\n",
       "    </tr>\n",
       "    <tr>\n",
       "      <th>4</th>\n",
       "      <td>204384</td>\n",
       "      <td>554656</td>\n",
       "      <td>21756</td>\n",
       "      <td>BATH BUILDING BLOCK WORD</td>\n",
       "      <td>3</td>\n",
       "      <td>2011-05-25 13:36:00</td>\n",
       "      <td>5.95</td>\n",
       "      <td>17663</td>\n",
       "      <td>United Kingdom</td>\n",
       "    </tr>\n",
       "  </tbody>\n",
       "</table>\n",
       "</div>"
      ],
      "text/plain": [
       "   Unnamed: 0  InvoiceNo StockCode                      Description  Quantity  \\\n",
       "0      416792     572558     22745       POPPY'S PLAYHOUSE BEDROOM          6   \n",
       "1      482904     577485     23196    VINTAGE LEAF MAGNETIC NOTEPAD         1   \n",
       "2      263743     560034     23299     FOOD COVER WITH BEADS SET 2          6   \n",
       "3      495549     578307    72349B  SET/6 PURPLE BUTTERFLY T-LIGHTS         1   \n",
       "4      204384     554656     21756         BATH BUILDING BLOCK WORD         3   \n",
       "\n",
       "          InvoiceDate  UnitPrice  CustomerID         Country  \n",
       "0 2011-10-25 08:26:00       2.10       14286  United Kingdom  \n",
       "1 2011-11-20 11:56:00       1.45       16360  United Kingdom  \n",
       "2 2011-07-14 13:35:00       3.75       13933  United Kingdom  \n",
       "3 2011-11-23 15:53:00       2.10       17290  United Kingdom  \n",
       "4 2011-05-25 13:36:00       5.95       17663  United Kingdom  "
      ]
     },
     "execution_count": 40,
     "metadata": {},
     "output_type": "execute_result"
    }
   ],
   "source": [
    "online.info()\n",
    "online.head()"
   ]
  },
  {
   "cell_type": "markdown",
   "metadata": {},
   "source": [
    "### Краткое содержание данного анализа\n",
    "1. Расчет основных маркетологических параметров для дальнейшего анализа\n",
    "2. Предварительная подготовка данных для дальнейшего машинного обучения\n",
    "3. Анализ данных и определение колиства сегментов (групп)\n",
    "4. Кластеризация данных при помощи метода k-средних\n",
    "5. Аналитический анализ и визуализация полученного результата"
   ]
  },
  {
   "cell_type": "markdown",
   "metadata": {},
   "source": [
    "# Сегментация рынка (Customer segmentation)\n",
    "Сегментация рынка — процесс разбивки текущих или потенциальных потребителей на различные группы, в рамках которых потребители имеют схожие или аналогичные запросы.\n",
    "\n",
    "<pr> В данном случае сегментация рынка будет произведена на основе следующих маркетологических параметров: новизны, частоты, денежных средств и как долго покупатель является клиентом компании (Recency, Frequency, Monetary value and Tenure)<pr>"
   ]
  },
  {
   "cell_type": "markdown",
   "metadata": {},
   "source": [
    "## Основные шаги при проведении сегментации рынка при помощи машинного обучения на неразмеченных данных (Unsupervised machine learning)\n",
    "* Расчет основных маркетологических параметров на основе, которых будет проводится сегментация рынка (новизна, частота, денежные средства и пребывание)\n",
    "* Предварительная подготовка данных для дальнейшего машинного обучения\n",
    "* Анализ данных и определение количества сегментов (групп)\n",
    "* Кластеризация данных при помощи метода k-средних \n",
    "* Аналитический анализ и визуализация полученного результата "
   ]
  },
  {
   "cell_type": "markdown",
   "metadata": {},
   "source": [
    "## __1. Расчет основных маркетологических параметров для дальнейшего анализа__\n",
    "* Новизна (Recency) количество дней с момента последней транзакции\n",
    "* Частота (Frequency) количество транзакций за последние 12 месяцев\n",
    "* Денежные средства (Monetary value) общая стоимость товаров, которые были приобретены клиентом в течение последних 12 месяцев\n",
    "* Пребывание (Tenure) как долго покупатель является клиентом компании, время с момента первой транзакции"
   ]
  },
  {
   "cell_type": "markdown",
   "metadata": {},
   "source": [
    "Расчет вышеперечисленных параметров, осуществляется при помощи Когортного анализа.\n",
    "<br>В данном случае все клиенты делятся на когорты по времени в зависимости от того, когда они совершили первую транзакцию"
   ]
  },
  {
   "cell_type": "code",
   "execution_count": 41,
   "metadata": {
    "collapsed": true
   },
   "outputs": [],
   "source": [
    "def get_day(x): return dt.datetime(x.year, x.month, x.day) \n",
    "\n",
    "online['InvoiceDay'] = online['InvoiceDate'].apply(get_day) \n",
    "\n",
    "# идентифицировать все ранзакции совершенные пользователем\n",
    "grouping = online.groupby('CustomerID')['InvoiceDay'] \n",
    "\n",
    "# Определить время первой транзакции\n",
    "online['CohortDay'] = grouping.transform('min')"
   ]
  },
  {
   "cell_type": "code",
   "execution_count": 42,
   "metadata": {},
   "outputs": [
    {
     "data": {
      "text/html": [
       "<div>\n",
       "<style scoped>\n",
       "    .dataframe tbody tr th:only-of-type {\n",
       "        vertical-align: middle;\n",
       "    }\n",
       "\n",
       "    .dataframe tbody tr th {\n",
       "        vertical-align: top;\n",
       "    }\n",
       "\n",
       "    .dataframe thead th {\n",
       "        text-align: right;\n",
       "    }\n",
       "</style>\n",
       "<table border=\"1\" class=\"dataframe\">\n",
       "  <thead>\n",
       "    <tr style=\"text-align: right;\">\n",
       "      <th></th>\n",
       "      <th>Unnamed: 0</th>\n",
       "      <th>InvoiceNo</th>\n",
       "      <th>StockCode</th>\n",
       "      <th>Description</th>\n",
       "      <th>Quantity</th>\n",
       "      <th>InvoiceDate</th>\n",
       "      <th>UnitPrice</th>\n",
       "      <th>CustomerID</th>\n",
       "      <th>Country</th>\n",
       "      <th>InvoiceDay</th>\n",
       "      <th>CohortDay</th>\n",
       "    </tr>\n",
       "  </thead>\n",
       "  <tbody>\n",
       "    <tr>\n",
       "      <th>0</th>\n",
       "      <td>416792</td>\n",
       "      <td>572558</td>\n",
       "      <td>22745</td>\n",
       "      <td>POPPY'S PLAYHOUSE BEDROOM</td>\n",
       "      <td>6</td>\n",
       "      <td>2011-10-25 08:26:00</td>\n",
       "      <td>2.10</td>\n",
       "      <td>14286</td>\n",
       "      <td>United Kingdom</td>\n",
       "      <td>2011-10-25</td>\n",
       "      <td>2011-04-11</td>\n",
       "    </tr>\n",
       "    <tr>\n",
       "      <th>1</th>\n",
       "      <td>482904</td>\n",
       "      <td>577485</td>\n",
       "      <td>23196</td>\n",
       "      <td>VINTAGE LEAF MAGNETIC NOTEPAD</td>\n",
       "      <td>1</td>\n",
       "      <td>2011-11-20 11:56:00</td>\n",
       "      <td>1.45</td>\n",
       "      <td>16360</td>\n",
       "      <td>United Kingdom</td>\n",
       "      <td>2011-11-20</td>\n",
       "      <td>2011-09-12</td>\n",
       "    </tr>\n",
       "    <tr>\n",
       "      <th>2</th>\n",
       "      <td>263743</td>\n",
       "      <td>560034</td>\n",
       "      <td>23299</td>\n",
       "      <td>FOOD COVER WITH BEADS SET 2</td>\n",
       "      <td>6</td>\n",
       "      <td>2011-07-14 13:35:00</td>\n",
       "      <td>3.75</td>\n",
       "      <td>13933</td>\n",
       "      <td>United Kingdom</td>\n",
       "      <td>2011-07-14</td>\n",
       "      <td>2011-07-14</td>\n",
       "    </tr>\n",
       "    <tr>\n",
       "      <th>3</th>\n",
       "      <td>495549</td>\n",
       "      <td>578307</td>\n",
       "      <td>72349B</td>\n",
       "      <td>SET/6 PURPLE BUTTERFLY T-LIGHTS</td>\n",
       "      <td>1</td>\n",
       "      <td>2011-11-23 15:53:00</td>\n",
       "      <td>2.10</td>\n",
       "      <td>17290</td>\n",
       "      <td>United Kingdom</td>\n",
       "      <td>2011-11-23</td>\n",
       "      <td>2011-11-23</td>\n",
       "    </tr>\n",
       "    <tr>\n",
       "      <th>4</th>\n",
       "      <td>204384</td>\n",
       "      <td>554656</td>\n",
       "      <td>21756</td>\n",
       "      <td>BATH BUILDING BLOCK WORD</td>\n",
       "      <td>3</td>\n",
       "      <td>2011-05-25 13:36:00</td>\n",
       "      <td>5.95</td>\n",
       "      <td>17663</td>\n",
       "      <td>United Kingdom</td>\n",
       "      <td>2011-05-25</td>\n",
       "      <td>2011-02-25</td>\n",
       "    </tr>\n",
       "  </tbody>\n",
       "</table>\n",
       "</div>"
      ],
      "text/plain": [
       "   Unnamed: 0  InvoiceNo StockCode                      Description  Quantity  \\\n",
       "0      416792     572558     22745       POPPY'S PLAYHOUSE BEDROOM          6   \n",
       "1      482904     577485     23196    VINTAGE LEAF MAGNETIC NOTEPAD         1   \n",
       "2      263743     560034     23299     FOOD COVER WITH BEADS SET 2          6   \n",
       "3      495549     578307    72349B  SET/6 PURPLE BUTTERFLY T-LIGHTS         1   \n",
       "4      204384     554656     21756         BATH BUILDING BLOCK WORD         3   \n",
       "\n",
       "          InvoiceDate  UnitPrice  CustomerID         Country InvoiceDay  \\\n",
       "0 2011-10-25 08:26:00       2.10       14286  United Kingdom 2011-10-25   \n",
       "1 2011-11-20 11:56:00       1.45       16360  United Kingdom 2011-11-20   \n",
       "2 2011-07-14 13:35:00       3.75       13933  United Kingdom 2011-07-14   \n",
       "3 2011-11-23 15:53:00       2.10       17290  United Kingdom 2011-11-23   \n",
       "4 2011-05-25 13:36:00       5.95       17663  United Kingdom 2011-05-25   \n",
       "\n",
       "   CohortDay  \n",
       "0 2011-04-11  \n",
       "1 2011-09-12  \n",
       "2 2011-07-14  \n",
       "3 2011-11-23  \n",
       "4 2011-02-25  "
      ]
     },
     "execution_count": 42,
     "metadata": {},
     "output_type": "execute_result"
    }
   ],
   "source": [
    "online.head()"
   ]
  },
  {
   "cell_type": "markdown",
   "metadata": {},
   "source": [
    "### раcчет смещения по времени в днях"
   ]
  },
  {
   "cell_type": "code",
   "execution_count": 43,
   "metadata": {
    "collapsed": true
   },
   "outputs": [],
   "source": [
    "# функция которая выделяет в отдельную переменную год, месяц и день\n",
    "def get_date_int(df, column):\n",
    "    year = df[column].dt.year\n",
    "    month = df[column].dt.month\n",
    "    day = df[column].dt.day\n",
    "    return year, month, day"
   ]
  },
  {
   "cell_type": "code",
   "execution_count": 44,
   "metadata": {
    "collapsed": true
   },
   "outputs": [],
   "source": [
    "invoice_year, invoice_month, invoice_day = get_date_int(online, 'InvoiceDay')\n",
    "\n",
    "cohort_year, cohort_month, cohort_day = get_date_int(online, 'CohortDay')"
   ]
  },
  {
   "cell_type": "code",
   "execution_count": 45,
   "metadata": {},
   "outputs": [
    {
     "data": {
      "text/html": [
       "<div>\n",
       "<style scoped>\n",
       "    .dataframe tbody tr th:only-of-type {\n",
       "        vertical-align: middle;\n",
       "    }\n",
       "\n",
       "    .dataframe tbody tr th {\n",
       "        vertical-align: top;\n",
       "    }\n",
       "\n",
       "    .dataframe thead th {\n",
       "        text-align: right;\n",
       "    }\n",
       "</style>\n",
       "<table border=\"1\" class=\"dataframe\">\n",
       "  <thead>\n",
       "    <tr style=\"text-align: right;\">\n",
       "      <th></th>\n",
       "      <th>Unnamed: 0</th>\n",
       "      <th>InvoiceNo</th>\n",
       "      <th>StockCode</th>\n",
       "      <th>Description</th>\n",
       "      <th>Quantity</th>\n",
       "      <th>InvoiceDate</th>\n",
       "      <th>UnitPrice</th>\n",
       "      <th>CustomerID</th>\n",
       "      <th>Country</th>\n",
       "      <th>InvoiceDay</th>\n",
       "      <th>CohortDay</th>\n",
       "      <th>CohortIndex</th>\n",
       "    </tr>\n",
       "  </thead>\n",
       "  <tbody>\n",
       "    <tr>\n",
       "      <th>0</th>\n",
       "      <td>416792</td>\n",
       "      <td>572558</td>\n",
       "      <td>22745</td>\n",
       "      <td>POPPY'S PLAYHOUSE BEDROOM</td>\n",
       "      <td>6</td>\n",
       "      <td>2011-10-25 08:26:00</td>\n",
       "      <td>2.10</td>\n",
       "      <td>14286</td>\n",
       "      <td>United Kingdom</td>\n",
       "      <td>2011-10-25</td>\n",
       "      <td>2011-04-11</td>\n",
       "      <td>195</td>\n",
       "    </tr>\n",
       "    <tr>\n",
       "      <th>1</th>\n",
       "      <td>482904</td>\n",
       "      <td>577485</td>\n",
       "      <td>23196</td>\n",
       "      <td>VINTAGE LEAF MAGNETIC NOTEPAD</td>\n",
       "      <td>1</td>\n",
       "      <td>2011-11-20 11:56:00</td>\n",
       "      <td>1.45</td>\n",
       "      <td>16360</td>\n",
       "      <td>United Kingdom</td>\n",
       "      <td>2011-11-20</td>\n",
       "      <td>2011-09-12</td>\n",
       "      <td>69</td>\n",
       "    </tr>\n",
       "    <tr>\n",
       "      <th>2</th>\n",
       "      <td>263743</td>\n",
       "      <td>560034</td>\n",
       "      <td>23299</td>\n",
       "      <td>FOOD COVER WITH BEADS SET 2</td>\n",
       "      <td>6</td>\n",
       "      <td>2011-07-14 13:35:00</td>\n",
       "      <td>3.75</td>\n",
       "      <td>13933</td>\n",
       "      <td>United Kingdom</td>\n",
       "      <td>2011-07-14</td>\n",
       "      <td>2011-07-14</td>\n",
       "      <td>1</td>\n",
       "    </tr>\n",
       "    <tr>\n",
       "      <th>3</th>\n",
       "      <td>495549</td>\n",
       "      <td>578307</td>\n",
       "      <td>72349B</td>\n",
       "      <td>SET/6 PURPLE BUTTERFLY T-LIGHTS</td>\n",
       "      <td>1</td>\n",
       "      <td>2011-11-23 15:53:00</td>\n",
       "      <td>2.10</td>\n",
       "      <td>17290</td>\n",
       "      <td>United Kingdom</td>\n",
       "      <td>2011-11-23</td>\n",
       "      <td>2011-11-23</td>\n",
       "      <td>1</td>\n",
       "    </tr>\n",
       "    <tr>\n",
       "      <th>4</th>\n",
       "      <td>204384</td>\n",
       "      <td>554656</td>\n",
       "      <td>21756</td>\n",
       "      <td>BATH BUILDING BLOCK WORD</td>\n",
       "      <td>3</td>\n",
       "      <td>2011-05-25 13:36:00</td>\n",
       "      <td>5.95</td>\n",
       "      <td>17663</td>\n",
       "      <td>United Kingdom</td>\n",
       "      <td>2011-05-25</td>\n",
       "      <td>2011-02-25</td>\n",
       "      <td>91</td>\n",
       "    </tr>\n",
       "  </tbody>\n",
       "</table>\n",
       "</div>"
      ],
      "text/plain": [
       "   Unnamed: 0  InvoiceNo StockCode                      Description  Quantity  \\\n",
       "0      416792     572558     22745       POPPY'S PLAYHOUSE BEDROOM          6   \n",
       "1      482904     577485     23196    VINTAGE LEAF MAGNETIC NOTEPAD         1   \n",
       "2      263743     560034     23299     FOOD COVER WITH BEADS SET 2          6   \n",
       "3      495549     578307    72349B  SET/6 PURPLE BUTTERFLY T-LIGHTS         1   \n",
       "4      204384     554656     21756         BATH BUILDING BLOCK WORD         3   \n",
       "\n",
       "          InvoiceDate  UnitPrice  CustomerID         Country InvoiceDay  \\\n",
       "0 2011-10-25 08:26:00       2.10       14286  United Kingdom 2011-10-25   \n",
       "1 2011-11-20 11:56:00       1.45       16360  United Kingdom 2011-11-20   \n",
       "2 2011-07-14 13:35:00       3.75       13933  United Kingdom 2011-07-14   \n",
       "3 2011-11-23 15:53:00       2.10       17290  United Kingdom 2011-11-23   \n",
       "4 2011-05-25 13:36:00       5.95       17663  United Kingdom 2011-05-25   \n",
       "\n",
       "   CohortDay  CohortIndex  \n",
       "0 2011-04-11          195  \n",
       "1 2011-09-12           69  \n",
       "2 2011-07-14            1  \n",
       "3 2011-11-23            1  \n",
       "4 2011-02-25           91  "
      ]
     },
     "execution_count": 45,
     "metadata": {},
     "output_type": "execute_result"
    }
   ],
   "source": [
    "# разница в годах\n",
    "years_diff = invoice_year - cohort_year\n",
    "\n",
    "# разница в месяцах\n",
    "months_diff = invoice_month - cohort_month\n",
    "\n",
    "# разница в днях\n",
    "days_diff = invoice_day - cohort_day\n",
    "\n",
    "# Extract the difference in days from all previous values\n",
    "online['CohortIndex'] = years_diff * 365 + months_diff * 30 + days_diff + 1\n",
    "online.head()"
   ]
  },
  {
   "cell_type": "code",
   "execution_count": 46,
   "metadata": {},
   "outputs": [
    {
     "data": {
      "text/plain": [
       "Timestamp('2011-12-10 12:49:00')"
      ]
     },
     "execution_count": 46,
     "metadata": {},
     "output_type": "execute_result"
    }
   ],
   "source": [
    "# в качестве текущей даты в анализе будет использована дата последней транзакции плюс один день\n",
    "snapshot_date = max(online.InvoiceDate) + dt.timedelta(days=1)\n",
    "snapshot_date"
   ]
  },
  {
   "cell_type": "code",
   "execution_count": 47,
   "metadata": {},
   "outputs": [
    {
     "data": {
      "text/html": [
       "<div>\n",
       "<style scoped>\n",
       "    .dataframe tbody tr th:only-of-type {\n",
       "        vertical-align: middle;\n",
       "    }\n",
       "\n",
       "    .dataframe tbody tr th {\n",
       "        vertical-align: top;\n",
       "    }\n",
       "\n",
       "    .dataframe thead th {\n",
       "        text-align: right;\n",
       "    }\n",
       "</style>\n",
       "<table border=\"1\" class=\"dataframe\">\n",
       "  <thead>\n",
       "    <tr style=\"text-align: right;\">\n",
       "      <th></th>\n",
       "      <th>Recency</th>\n",
       "      <th>Frequency</th>\n",
       "      <th>MonetaryValue</th>\n",
       "      <th>Tenure</th>\n",
       "    </tr>\n",
       "    <tr>\n",
       "      <th>CustomerID</th>\n",
       "      <th></th>\n",
       "      <th></th>\n",
       "      <th></th>\n",
       "      <th></th>\n",
       "    </tr>\n",
       "  </thead>\n",
       "  <tbody>\n",
       "    <tr>\n",
       "      <th>12747</th>\n",
       "      <td>2</td>\n",
       "      <td>27</td>\n",
       "      <td>126.26</td>\n",
       "      <td>368</td>\n",
       "    </tr>\n",
       "    <tr>\n",
       "      <th>12748</th>\n",
       "      <td>1</td>\n",
       "      <td>967</td>\n",
       "      <td>3098.10</td>\n",
       "      <td>370</td>\n",
       "    </tr>\n",
       "    <tr>\n",
       "      <th>12749</th>\n",
       "      <td>4</td>\n",
       "      <td>37</td>\n",
       "      <td>161.75</td>\n",
       "      <td>207</td>\n",
       "    </tr>\n",
       "    <tr>\n",
       "      <th>12820</th>\n",
       "      <td>3</td>\n",
       "      <td>17</td>\n",
       "      <td>33.57</td>\n",
       "      <td>320</td>\n",
       "    </tr>\n",
       "    <tr>\n",
       "      <th>12822</th>\n",
       "      <td>71</td>\n",
       "      <td>9</td>\n",
       "      <td>24.16</td>\n",
       "      <td>18</td>\n",
       "    </tr>\n",
       "  </tbody>\n",
       "</table>\n",
       "</div>"
      ],
      "text/plain": [
       "            Recency  Frequency  MonetaryValue  Tenure\n",
       "CustomerID                                           \n",
       "12747             2         27         126.26     368\n",
       "12748             1        967        3098.10     370\n",
       "12749             4         37         161.75     207\n",
       "12820             3         17          33.57     320\n",
       "12822            71          9          24.16      18"
      ]
     },
     "execution_count": 47,
     "metadata": {},
     "output_type": "execute_result"
    }
   ],
   "source": [
    "# группировка данных по ID пользователя и вычисление основных маркетологических метрик\n",
    "datamart_rfmt = online.groupby(['CustomerID']).agg({\n",
    "    'InvoiceDate': lambda x: (snapshot_date - x.max()).days,\n",
    "    'InvoiceNo': 'count',\n",
    "    'UnitPrice': 'sum', \n",
    "    'CohortIndex': 'max'})\n",
    "\n",
    "datamart_rfmt.rename(columns = { 'InvoiceDate': 'Recency',\n",
    "                                 'InvoiceNo': 'Frequency',\n",
    "                                 'UnitPrice': 'MonetaryValue', \n",
    "                                 'CohortIndex': 'Tenure'}, inplace=True)\n",
    "\n",
    "# Check the first rows\n",
    "datamart_rfmt.head()"
   ]
  },
  {
   "cell_type": "markdown",
   "metadata": {},
   "source": [
    "## __2. Предварительная подготовка данных для дальнейшего машинного обучения__\n",
    "Если мы планируем использовать метод  k-средних для проведения сегментации рынка, то сперва мы  должны убедиться что наши данные отвечают следующим требованиям:\n",
    "* переменные должны иметь  симметричное распределение\n",
    "* все переменные должны иметь одно и тоже среднее значение (average value)\n",
    "* все переменные должны иметь одно  и тот же стандартное отклонение (standard deviation)"
   ]
  },
  {
   "cell_type": "markdown",
   "metadata": {},
   "source": [
    "### Предварительный статистический анализ данных"
   ]
  },
  {
   "cell_type": "code",
   "execution_count": 48,
   "metadata": {},
   "outputs": [
    {
     "name": "stdout",
     "output_type": "stream",
     "text": [
      "Recency           94.298568\n",
      "Frequency         19.147257\n",
      "MonetaryValue     58.648682\n",
      "Tenure           124.010808\n",
      "dtype: float64\n",
      "Recency           99.974969\n",
      "Frequency         44.831615\n",
      "MonetaryValue    210.647682\n",
      "Tenure           130.609136\n",
      "dtype: float64\n",
      "           Recency    Frequency  MonetaryValue       Tenure\n",
      "count  3701.000000  3701.000000    3701.000000  3701.000000\n",
      "mean     94.298568    19.147257      58.648682   124.010808\n",
      "std      99.974969    44.831615     210.647682   130.609136\n",
      "min       1.000000     1.000000       0.080000     1.000000\n",
      "25%      19.000000     4.000000       9.950000     1.000000\n",
      "50%      52.000000     9.000000      27.230000    74.000000\n",
      "75%     151.000000    21.000000      59.990000   242.000000\n",
      "max     374.000000  1532.000000    8209.550000   374.000000\n"
     ]
    }
   ],
   "source": [
    "print(datamart_rfmt.mean())\n",
    "\n",
    "print(datamart_rfmt.std())\n",
    "\n",
    "print(datamart_rfmt.describe())"
   ]
  },
  {
   "cell_type": "markdown",
   "metadata": {},
   "source": [
    "__из данного статистического анализа видно, что переменные имеют различные средние значения и стандартное отклонение__"
   ]
  },
  {
   "cell_type": "markdown",
   "metadata": {},
   "source": [
    "### Предварительный визуальный анализ распределения интересующих нас маркетологических показателей "
   ]
  },
  {
   "cell_type": "code",
   "execution_count": 49,
   "metadata": {},
   "outputs": [
    {
     "data": {
      "image/png": "[encoded data removed]",
      "text/plain": [
       "<Figure size 720x720 with 4 Axes>"
      ]
     },
     "metadata": {},
     "output_type": "display_data"
    }
   ],
   "source": [
    "plt.figure(figsize=(10,10))\n",
    "\n",
    "# распределение показателя 'новизны'\n",
    "plt.subplot(4, 1, 1); sns.distplot(datamart_rfmt['Recency'], kde_kws={\"linewidth\": 1.5})\n",
    "\n",
    "# распределение показателя 'частоты'\n",
    "plt.subplot(4, 1, 2); sns.distplot(datamart_rfmt['Frequency'], kde_kws={\"linewidth\": 1.5})\n",
    "\n",
    "# распределение показателя 'денежные средства'\n",
    "plt.subplot(4,1, 3); sns.distplot(datamart_rfmt['MonetaryValue'], kde_kws={\"linewidth\": 1.5})\n",
    "\n",
    "# распределение показателя 'пребывание'\n",
    "plt.subplot(4,1, 4); sns.distplot(datamart_rfmt['Tenure'], kde_kws={\"linewidth\": 1.5})\n",
    "\n",
    "plt.tight_layout()\n",
    "plt.show()"
   ]
  },
  {
   "cell_type": "markdown",
   "metadata": {},
   "source": [
    "#### Предварительная обработка данных"
   ]
  },
  {
   "cell_type": "code",
   "execution_count": 50,
   "metadata": {
    "collapsed": true
   },
   "outputs": [],
   "source": [
    "datamart_log = np.log(datamart_rfmt)"
   ]
  },
  {
   "cell_type": "code",
   "execution_count": 51,
   "metadata": {
    "collapsed": true
   },
   "outputs": [],
   "source": [
    "from sklearn.preprocessing import StandardScaler\n",
    "\n",
    "scaler = StandardScaler()\n",
    "scaler.fit(datamart_log)\n",
    "\n",
    "datamart_normalized = scaler.transform(datamart_log)\n",
    "\n",
    "datamart_normalized = pd.DataFrame(data=datamart_normalized, index=datamart_rfmt.index, columns=datamart_rfmt.columns)"
   ]
  },
  {
   "cell_type": "markdown",
   "metadata": {},
   "source": [
    "#### Визуальный анализ распределения интересующих нас маркетологических показателей после предварительной обработки"
   ]
  },
  {
   "cell_type": "code",
   "execution_count": 52,
   "metadata": {},
   "outputs": [
    {
     "data": {
      "image/png": "[encoded data removed]",
      "text/plain": [
       "<Figure size 720x720 with 4 Axes>"
      ]
     },
     "metadata": {},
     "output_type": "display_data"
    }
   ],
   "source": [
    "plt.figure(figsize=(10,10))\n",
    "\n",
    "# Plot recency distribution\n",
    "plt.subplot(4, 1, 1); sns.distplot(datamart_normalized['Recency'],  kde_kws={\"linewidth\": 1.5})\n",
    "\n",
    "# Plot frequency distribution\n",
    "plt.subplot(4, 1, 2); sns.distplot(datamart_normalized['Frequency'], kde_kws={\"linewidth\": 1.5})\n",
    "\n",
    "# Plot monetary value distribution\n",
    "plt.subplot(4, 1, 3); sns.distplot(datamart_normalized['MonetaryValue'], kde_kws={\"linewidth\": 1.5})\n",
    "\n",
    "# Plot monetary value distribution\n",
    "plt.subplot(4,1, 4); sns.distplot(datamart_normalized['Tenure'], kde_kws={\"linewidth\": 1.5})\n",
    "\n",
    "# Show the plot\n",
    "plt.tight_layout()\n",
    "plt.show()"
   ]
  },
  {
   "cell_type": "markdown",
   "metadata": {},
   "source": [
    "## __3. Анализ данных и определение колиства сегментов (групп)__\n",
    "Одним из наиболее распространенных методов определения количества сигментов является визуальный метод, который называется Метод критерия локтя (Elbow criterion method). Данный метод заключается в следующем:\n",
    "* Сперва необходимо построить несколько моделей и построить для них график зависимости суммы квадратических ошибок от выбранного количества сегментов\n",
    "* Определить при каком значение на графики образуется \"локоть\n",
    "* Так называемый \"локоть\" - представляет наиболее оптимальное количество сегментов для последующего построения модели"
   ]
  },
  {
   "cell_type": "code",
   "execution_count": 53,
   "metadata": {
    "collapsed": true
   },
   "outputs": [],
   "source": [
    "from sklearn.cluster import KMeans \n",
    "import seaborn as sns \n",
    "from matplotlib import pyplot as plt "
   ]
  },
  {
   "cell_type": "markdown",
   "metadata": {},
   "source": [
    "#### расчет суммы квадратических ошибок sum of squared errors (SSE) "
   ]
  },
  {
   "cell_type": "code",
   "execution_count": 54,
   "metadata": {
    "collapsed": true
   },
   "outputs": [],
   "source": [
    "sse = {}\n",
    "for k in range(1, 11):\n",
    "    \n",
    "    kmeans = KMeans(n_clusters = k, random_state = 1).fit(datamart_normalized)\n",
    "\n",
    "    sse[k] = kmeans.inertia_ "
   ]
  },
  {
   "cell_type": "markdown",
   "metadata": {},
   "source": [
    "#### график зависимости суммы квадратических ошибок от выбранного количества сегментов"
   ]
  },
  {
   "cell_type": "code",
   "execution_count": 55,
   "metadata": {},
   "outputs": [
    {
     "data": {
      "image/png": "[encoded data removed]",
      "text/plain": [
       "<Figure size 432x288 with 1 Axes>"
      ]
     },
     "metadata": {},
     "output_type": "display_data"
    }
   ],
   "source": [
    "# Add the plot title, x and y axis labels\n",
    "plt.title('The Elbow Method'); plt.xlabel('k'); plt.ylabel('SSE')\n",
    "\n",
    "# Plot SSE values for each k stored as keys in the dictionary\n",
    "sns.pointplot(x=list(sse.keys()), y=list(sse.values()))\n",
    "plt.show()"
   ]
  },
  {
   "cell_type": "markdown",
   "metadata": {},
   "source": [
    "Так называемый локоть образуется при количестве кластеров равном 3, либо 4"
   ]
  },
  {
   "cell_type": "markdown",
   "metadata": {},
   "source": [
    "## __4. Кластеризация данных при помощи метода k-средних__"
   ]
  },
  {
   "cell_type": "markdown",
   "metadata": {},
   "source": [
    "Разделение клиентов на 4 категории при помощи метода машинного обучения на неразмеченных данных так называемого метода k-средних "
   ]
  },
  {
   "cell_type": "code",
   "execution_count": 56,
   "metadata": {
    "collapsed": true
   },
   "outputs": [],
   "source": [
    "from sklearn.cluster import KMeans\n",
    "\n",
    "kmeans = KMeans(n_clusters = 4, random_state = 1) \n",
    "\n",
    "kmeans.fit(datamart_normalized)\n",
    "\n",
    "cluster_labels = kmeans.labels_"
   ]
  },
  {
   "cell_type": "markdown",
   "metadata": {},
   "source": [
    "## __5. Аналитический анализ и визуализация полученного результата__"
   ]
  },
  {
   "cell_type": "markdown",
   "metadata": {},
   "source": [
    "### Методы построения профилей для каждого сегмента покупателей\n",
    "* Статистический анализ показателей для каждого сегмента покупателей\n",
    "* Построение Snake plots для каждого сегмента клиентов\n",
    "* Относительная важность атрибутов кластера по сравнению с населением"
   ]
  },
  {
   "cell_type": "markdown",
   "metadata": {},
   "source": [
    "## Статистический анализ показателей для каждого сегмента покупателей"
   ]
  },
  {
   "cell_type": "code",
   "execution_count": 57,
   "metadata": {},
   "outputs": [
    {
     "data": {
      "text/html": [
       "<div>\n",
       "<style scoped>\n",
       "    .dataframe tbody tr th:only-of-type {\n",
       "        vertical-align: middle;\n",
       "    }\n",
       "\n",
       "    .dataframe tbody tr th {\n",
       "        vertical-align: top;\n",
       "    }\n",
       "\n",
       "    .dataframe thead tr th {\n",
       "        text-align: left;\n",
       "    }\n",
       "\n",
       "    .dataframe thead tr:last-of-type th {\n",
       "        text-align: right;\n",
       "    }\n",
       "</style>\n",
       "<table border=\"1\" class=\"dataframe\">\n",
       "  <thead>\n",
       "    <tr>\n",
       "      <th></th>\n",
       "      <th>Recency</th>\n",
       "      <th>Frequency</th>\n",
       "      <th>MonetaryValue</th>\n",
       "      <th colspan=\"2\" halign=\"left\">Tenure</th>\n",
       "    </tr>\n",
       "    <tr>\n",
       "      <th></th>\n",
       "      <th>mean</th>\n",
       "      <th>mean</th>\n",
       "      <th>mean</th>\n",
       "      <th>mean</th>\n",
       "      <th>count</th>\n",
       "    </tr>\n",
       "    <tr>\n",
       "      <th>Cluster</th>\n",
       "      <th></th>\n",
       "      <th></th>\n",
       "      <th></th>\n",
       "      <th></th>\n",
       "      <th></th>\n",
       "    </tr>\n",
       "  </thead>\n",
       "  <tbody>\n",
       "    <tr>\n",
       "      <th>0</th>\n",
       "      <td>80.8</td>\n",
       "      <td>12.4</td>\n",
       "      <td>36.6</td>\n",
       "      <td>169.8</td>\n",
       "      <td>1259</td>\n",
       "    </tr>\n",
       "    <tr>\n",
       "      <th>1</th>\n",
       "      <td>158.4</td>\n",
       "      <td>1.8</td>\n",
       "      <td>3.8</td>\n",
       "      <td>4.9</td>\n",
       "      <td>656</td>\n",
       "    </tr>\n",
       "    <tr>\n",
       "      <th>2</th>\n",
       "      <td>149.6</td>\n",
       "      <td>7.1</td>\n",
       "      <td>23.9</td>\n",
       "      <td>1.5</td>\n",
       "      <td>858</td>\n",
       "    </tr>\n",
       "    <tr>\n",
       "      <th>3</th>\n",
       "      <td>16.2</td>\n",
       "      <td>51.7</td>\n",
       "      <td>159.4</td>\n",
       "      <td>259.4</td>\n",
       "      <td>928</td>\n",
       "    </tr>\n",
       "  </tbody>\n",
       "</table>\n",
       "</div>"
      ],
      "text/plain": [
       "        Recency Frequency MonetaryValue Tenure      \n",
       "           mean      mean          mean   mean count\n",
       "Cluster                                             \n",
       "0          80.8      12.4          36.6  169.8  1259\n",
       "1         158.4       1.8           3.8    4.9   656\n",
       "2         149.6       7.1          23.9    1.5   858\n",
       "3          16.2      51.7         159.4  259.4   928"
      ]
     },
     "execution_count": 57,
     "metadata": {},
     "output_type": "execute_result"
    }
   ],
   "source": [
    "datamart_rfmt_k4 = datamart_rfmt.assign(Cluster=cluster_labels)\n",
    "\n",
    "grouped = datamart_rfmt_k4.groupby(['Cluster'])\n",
    "\n",
    "# Calculate average RFMT values and segment sizes for each cluster\n",
    "grouped.agg({\n",
    "    'Recency': 'mean',\n",
    "    'Frequency': 'mean',\n",
    "    'MonetaryValue': 'mean',\n",
    "    'Tenure': ['mean', 'count']\n",
    "  }).round(1)"
   ]
  },
  {
   "cell_type": "markdown",
   "metadata": {},
   "source": [
    "## Построение Snake plots для каждого сегмента клиентов\n",
    "* Техника маркетологического исследования, которая позволяет сравнить различные сегменты между собой\n",
    "* Визуальный анализ основных маркетологических параметров каждого сегмента"
   ]
  },
  {
   "cell_type": "markdown",
   "metadata": {},
   "source": [
    "### Подготовка данных для построения графиков\n",
    "как и в случае использования метода k-средних для проведения сегментации рынка, так и при построении Snake plots необходима предварительная обработка данных: \n",
    "* переменные должны иметь  симметричное распределение\n",
    "* все переменные должны иметь одно и тоже среднее значение (average value)\n",
    "* все переменные должны иметь одно  и тот же стандартное отклонение (standard deviation)"
   ]
  },
  {
   "cell_type": "code",
   "execution_count": 58,
   "metadata": {},
   "outputs": [
    {
     "data": {
      "text/html": [
       "<div>\n",
       "<style scoped>\n",
       "    .dataframe tbody tr th:only-of-type {\n",
       "        vertical-align: middle;\n",
       "    }\n",
       "\n",
       "    .dataframe tbody tr th {\n",
       "        vertical-align: top;\n",
       "    }\n",
       "\n",
       "    .dataframe thead th {\n",
       "        text-align: right;\n",
       "    }\n",
       "</style>\n",
       "<table border=\"1\" class=\"dataframe\">\n",
       "  <thead>\n",
       "    <tr style=\"text-align: right;\">\n",
       "      <th></th>\n",
       "      <th>Recency</th>\n",
       "      <th>Frequency</th>\n",
       "      <th>MonetaryValue</th>\n",
       "      <th>Tenure</th>\n",
       "    </tr>\n",
       "  </thead>\n",
       "  <tbody>\n",
       "    <tr>\n",
       "      <th>count</th>\n",
       "      <td>3.701000e+03</td>\n",
       "      <td>3.701000e+03</td>\n",
       "      <td>3.701000e+03</td>\n",
       "      <td>3.701000e+03</td>\n",
       "    </tr>\n",
       "    <tr>\n",
       "      <th>mean</th>\n",
       "      <td>1.852672e-16</td>\n",
       "      <td>1.315109e-16</td>\n",
       "      <td>-9.431346e-17</td>\n",
       "      <td>1.267112e-16</td>\n",
       "    </tr>\n",
       "    <tr>\n",
       "      <th>std</th>\n",
       "      <td>1.000135e+00</td>\n",
       "      <td>1.000135e+00</td>\n",
       "      <td>1.000135e+00</td>\n",
       "      <td>1.000135e+00</td>\n",
       "    </tr>\n",
       "    <tr>\n",
       "      <th>min</th>\n",
       "      <td>-2.684553e+00</td>\n",
       "      <td>-1.794238e+00</td>\n",
       "      <td>-4.086634e+00</td>\n",
       "      <td>-1.204813e+00</td>\n",
       "    </tr>\n",
       "    <tr>\n",
       "      <th>25%</th>\n",
       "      <td>-6.076932e-01</td>\n",
       "      <td>-6.569832e-01</td>\n",
       "      <td>-6.223824e-01</td>\n",
       "      <td>-1.204813e+00</td>\n",
       "    </tr>\n",
       "    <tr>\n",
       "      <th>50%</th>\n",
       "      <td>1.024565e-01</td>\n",
       "      <td>8.268065e-03</td>\n",
       "      <td>1.006957e-01</td>\n",
       "      <td>4.773814e-01</td>\n",
       "    </tr>\n",
       "    <tr>\n",
       "      <th>75%</th>\n",
       "      <td>8.543851e-01</td>\n",
       "      <td>7.033537e-01</td>\n",
       "      <td>6.679978e-01</td>\n",
       "      <td>9.404751e-01</td>\n",
       "    </tr>\n",
       "    <tr>\n",
       "      <th>max</th>\n",
       "      <td>1.494121e+00</td>\n",
       "      <td>4.222521e+00</td>\n",
       "      <td>4.200894e+00</td>\n",
       "      <td>1.110614e+00</td>\n",
       "    </tr>\n",
       "  </tbody>\n",
       "</table>\n",
       "</div>"
      ],
      "text/plain": [
       "            Recency     Frequency  MonetaryValue        Tenure\n",
       "count  3.701000e+03  3.701000e+03   3.701000e+03  3.701000e+03\n",
       "mean   1.852672e-16  1.315109e-16  -9.431346e-17  1.267112e-16\n",
       "std    1.000135e+00  1.000135e+00   1.000135e+00  1.000135e+00\n",
       "min   -2.684553e+00 -1.794238e+00  -4.086634e+00 -1.204813e+00\n",
       "25%   -6.076932e-01 -6.569832e-01  -6.223824e-01 -1.204813e+00\n",
       "50%    1.024565e-01  8.268065e-03   1.006957e-01  4.773814e-01\n",
       "75%    8.543851e-01  7.033537e-01   6.679978e-01  9.404751e-01\n",
       "max    1.494121e+00  4.222521e+00   4.200894e+00  1.110614e+00"
      ]
     },
     "execution_count": 58,
     "metadata": {},
     "output_type": "execute_result"
    }
   ],
   "source": [
    "datamart_normalized.describe()"
   ]
  },
  {
   "cell_type": "code",
   "execution_count": 59,
   "metadata": {
    "collapsed": true
   },
   "outputs": [],
   "source": [
    "datamart_normalized =  datamart_normalized.assign(Cluster = cluster_labels)"
   ]
  },
  {
   "cell_type": "code",
   "execution_count": 60,
   "metadata": {},
   "outputs": [
    {
     "data": {
      "text/html": [
       "<div>\n",
       "<style scoped>\n",
       "    .dataframe tbody tr th:only-of-type {\n",
       "        vertical-align: middle;\n",
       "    }\n",
       "\n",
       "    .dataframe tbody tr th {\n",
       "        vertical-align: top;\n",
       "    }\n",
       "\n",
       "    .dataframe thead th {\n",
       "        text-align: right;\n",
       "    }\n",
       "</style>\n",
       "<table border=\"1\" class=\"dataframe\">\n",
       "  <thead>\n",
       "    <tr style=\"text-align: right;\">\n",
       "      <th></th>\n",
       "      <th>Recency</th>\n",
       "      <th>Frequency</th>\n",
       "      <th>MonetaryValue</th>\n",
       "      <th>Tenure</th>\n",
       "      <th>Cluster</th>\n",
       "    </tr>\n",
       "    <tr>\n",
       "      <th>CustomerID</th>\n",
       "      <th></th>\n",
       "      <th></th>\n",
       "      <th></th>\n",
       "      <th></th>\n",
       "      <th></th>\n",
       "    </tr>\n",
       "  </thead>\n",
       "  <tbody>\n",
       "    <tr>\n",
       "      <th>12747</th>\n",
       "      <td>-2.195642</td>\n",
       "      <td>0.909521</td>\n",
       "      <td>1.202481</td>\n",
       "      <td>1.104293</td>\n",
       "      <td>3</td>\n",
       "    </tr>\n",
       "    <tr>\n",
       "      <th>12748</th>\n",
       "      <td>-2.684553</td>\n",
       "      <td>3.845050</td>\n",
       "      <td>3.500970</td>\n",
       "      <td>1.106411</td>\n",
       "      <td>3</td>\n",
       "    </tr>\n",
       "    <tr>\n",
       "      <th>12749</th>\n",
       "      <td>-1.706731</td>\n",
       "      <td>1.168000</td>\n",
       "      <td>1.380394</td>\n",
       "      <td>0.879419</td>\n",
       "      <td>3</td>\n",
       "    </tr>\n",
       "    <tr>\n",
       "      <th>12820</th>\n",
       "      <td>-1.909647</td>\n",
       "      <td>0.530005</td>\n",
       "      <td>0.251031</td>\n",
       "      <td>1.049669</td>\n",
       "      <td>3</td>\n",
       "    </tr>\n",
       "    <tr>\n",
       "      <th>12822</th>\n",
       "      <td>0.322128</td>\n",
       "      <td>0.008268</td>\n",
       "      <td>0.014780</td>\n",
       "      <td>-0.075144</td>\n",
       "      <td>0</td>\n",
       "    </tr>\n",
       "  </tbody>\n",
       "</table>\n",
       "</div>"
      ],
      "text/plain": [
       "             Recency  Frequency  MonetaryValue    Tenure  Cluster\n",
       "CustomerID                                                       \n",
       "12747      -2.195642   0.909521       1.202481  1.104293        3\n",
       "12748      -2.684553   3.845050       3.500970  1.106411        3\n",
       "12749      -1.706731   1.168000       1.380394  0.879419        3\n",
       "12820      -1.909647   0.530005       0.251031  1.049669        3\n",
       "12822       0.322128   0.008268       0.014780 -0.075144        0"
      ]
     },
     "execution_count": 60,
     "metadata": {},
     "output_type": "execute_result"
    }
   ],
   "source": [
    "datamart_normalized.head()"
   ]
  },
  {
   "cell_type": "markdown",
   "metadata": {},
   "source": [
    "#### __Преобразование данных в \"длинный\" формат__\n",
    "слияние все маркетологических метрик (Frequency, MonetaryValue, Recency, Tenure) в одну переменную (Metric)"
   ]
  },
  {
   "cell_type": "code",
   "execution_count": 61,
   "metadata": {
    "collapsed": true
   },
   "outputs": [],
   "source": [
    "datamart_melt = pd.melt(\n",
    "                    datamart_normalized.reset_index(), \n",
    "                        \n",
    "                    id_vars=['CustomerID', 'Cluster'],\n",
    "\n",
    "                    value_vars=['Recency', 'Frequency', 'MonetaryValue', 'Tenure'], \n",
    "                        \n",
    "                    var_name='Metric', value_name='Value')"
   ]
  },
  {
   "cell_type": "code",
   "execution_count": 62,
   "metadata": {},
   "outputs": [
    {
     "data": {
      "text/html": [
       "<div>\n",
       "<style scoped>\n",
       "    .dataframe tbody tr th:only-of-type {\n",
       "        vertical-align: middle;\n",
       "    }\n",
       "\n",
       "    .dataframe tbody tr th {\n",
       "        vertical-align: top;\n",
       "    }\n",
       "\n",
       "    .dataframe thead th {\n",
       "        text-align: right;\n",
       "    }\n",
       "</style>\n",
       "<table border=\"1\" class=\"dataframe\">\n",
       "  <thead>\n",
       "    <tr style=\"text-align: right;\">\n",
       "      <th></th>\n",
       "      <th>CustomerID</th>\n",
       "      <th>Cluster</th>\n",
       "      <th>Metric</th>\n",
       "      <th>Value</th>\n",
       "    </tr>\n",
       "  </thead>\n",
       "  <tbody>\n",
       "    <tr>\n",
       "      <th>0</th>\n",
       "      <td>12747</td>\n",
       "      <td>3</td>\n",
       "      <td>Recency</td>\n",
       "      <td>-2.195642</td>\n",
       "    </tr>\n",
       "    <tr>\n",
       "      <th>1</th>\n",
       "      <td>12748</td>\n",
       "      <td>3</td>\n",
       "      <td>Recency</td>\n",
       "      <td>-2.684553</td>\n",
       "    </tr>\n",
       "    <tr>\n",
       "      <th>2</th>\n",
       "      <td>12749</td>\n",
       "      <td>3</td>\n",
       "      <td>Recency</td>\n",
       "      <td>-1.706731</td>\n",
       "    </tr>\n",
       "    <tr>\n",
       "      <th>3</th>\n",
       "      <td>12820</td>\n",
       "      <td>3</td>\n",
       "      <td>Recency</td>\n",
       "      <td>-1.909647</td>\n",
       "    </tr>\n",
       "    <tr>\n",
       "      <th>4</th>\n",
       "      <td>12822</td>\n",
       "      <td>0</td>\n",
       "      <td>Recency</td>\n",
       "      <td>0.322128</td>\n",
       "    </tr>\n",
       "  </tbody>\n",
       "</table>\n",
       "</div>"
      ],
      "text/plain": [
       "   CustomerID  Cluster   Metric     Value\n",
       "0       12747        3  Recency -2.195642\n",
       "1       12748        3  Recency -2.684553\n",
       "2       12749        3  Recency -1.706731\n",
       "3       12820        3  Recency -1.909647\n",
       "4       12822        0  Recency  0.322128"
      ]
     },
     "execution_count": 62,
     "metadata": {},
     "output_type": "execute_result"
    }
   ],
   "source": [
    "datamart_melt.head()"
   ]
  },
  {
   "cell_type": "markdown",
   "metadata": {},
   "source": [
    "#### __Построение Snake plots__"
   ]
  },
  {
   "cell_type": "code",
   "execution_count": 73,
   "metadata": {},
   "outputs": [
    {
     "data": {
      "image/png": "[encoded data removed]",
      "text/plain": [
       "<Figure size 1080x720 with 1 Axes>"
      ]
     },
     "metadata": {},
     "output_type": "display_data"
    }
   ],
   "source": [
    "plt.figure(figsize=(15,10))\n",
    "\n",
    "plt.title('Snake plot для нормализованных показателей')\n",
    "\n",
    "_= sns.lineplot(data=datamart_melt, x='Metric', y='Value', hue='Cluster')\n",
    "\n",
    "plt.xlabel('Маркетологический показатель')\n",
    "\n",
    "plt.ylabel('Значение')\n",
    "\n",
    "plt.show()"
   ]
  },
  {
   "cell_type": "markdown",
   "metadata": {},
   "source": [
    "## Относительная важность маркетологических показателей каждого сегмента\n",
    "Данный анализ позволяет определить относительную важность каждого маркетологического показателя для каждого сегмента пользователей\n",
    "<pr> каким образом проводится данный анализ: \n",
    "* Сперва рассчитывается среднее значение каждого маркетологического показателя для каждого сегмента покупателей по отдельности\n",
    "* Далее рассчитывается среднее значение каждого маркетологического показателя для популяции\n",
    "* расчет оценки важности производиться путем деления среднего значения сегмента на среднее  значение популяции и вычитанием от полученного результата 1 (при этом необходимо убедиться, что в случае если среднее значение сегмента равно среднему значению популяции, то в данном случае оценка важности должна равняться 0)"
   ]
  },
  {
   "cell_type": "markdown",
   "metadata": {},
   "source": [
    "#### Расчет относительной важности каждого показателя "
   ]
  },
  {
   "cell_type": "code",
   "execution_count": 64,
   "metadata": {
    "collapsed": true
   },
   "outputs": [],
   "source": [
    "# рассчет среднее значение каждого маркетологического показателя для каждого сегмента покупателей\n",
    "cluster_avg = datamart_rfmt_k4.groupby(['Cluster']).mean() \n",
    "\n",
    "# рассчет среднее значение каждого маркетологического показателя для популяции\n",
    "population_avg = datamart_rfmt.mean()\n",
    "\n",
    "# расчет оценки важности основным маркетологических показателей сегмента по отношению к показателям популяции\n",
    "relative_imp = cluster_avg / population_avg - 1"
   ]
  },
  {
   "cell_type": "markdown",
   "metadata": {},
   "source": [
    "#### Анализ и визуализация относительной важности показателей\n",
    "__Интерпретация:__ чем дальше полученное значение от 0 тем важнее данный показатель является для сегмента"
   ]
  },
  {
   "cell_type": "code",
   "execution_count": 65,
   "metadata": {
    "collapsed": true
   },
   "outputs": [
    {
     "name": "stdout",
     "output_type": "stream",
     "text": [
      "         Recency  Frequency  MonetaryValue  Tenure\n",
      "Cluster                                           \n",
      "0          -0.14      -0.35          -0.38    0.37\n",
      "1           0.68      -0.90          -0.93   -0.96\n",
      "2           0.59      -0.63          -0.59   -0.99\n",
      "3          -0.83       1.70           1.72    1.09\n"
     ]
    }
   ],
   "source": [
    "print(relative_imp.round(2))"
   ]
  },
  {
   "cell_type": "markdown",
   "metadata": {},
   "source": [
    "#### Визуализация относительной важности показателей при помощи heatmap"
   ]
  },
  {
   "cell_type": "code",
   "execution_count": 66,
   "metadata": {
    "collapsed": true
   },
   "outputs": [
    {
     "data": {
      "image/png": "[encoded data removed]",
      "text/plain": [
       "<Figure size 576x144 with 2 Axes>"
      ]
     },
     "metadata": {},
     "output_type": "display_data"
    }
   ],
   "source": [
    "#раземеры графика\n",
    "plt.figure(figsize=(8, 2))\n",
    "\n",
    "#название графика\n",
    "plt.title('Относительная важность показателей для каждого сегмента')\n",
    "\n",
    "sns.heatmap(data=relative_imp, annot=True, fmt='.2f', cmap='RdYlGn')\n",
    "plt.show()"
   ]
  },
  {
   "cell_type": "code",
   "execution_count": null,
   "metadata": {
    "collapsed": true
   },
   "outputs": [],
   "source": []
  }
 ],
 "metadata": {
  "kernelspec": {
   "display_name": "Python 3",
   "language": "python",
   "name": "python3"
  },
  "language_info": {
   "codemirror_mode": {
    "name": "ipython",
    "version": 3
   },
   "file_extension": ".py",
   "mimetype": "text/x-python",
   "name": "python",
   "nbconvert_exporter": "python",
   "pygments_lexer": "ipython3",
   "version": "3.6.5"
  },
  "widgets": {
   "state": {},
   "version": "1.1.2"
  }
 },
 "nbformat": 4,
 "nbformat_minor": 2
}
